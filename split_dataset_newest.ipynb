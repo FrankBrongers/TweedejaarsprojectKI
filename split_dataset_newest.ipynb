{
 "cells": [
  {
   "cell_type": "code",
   "execution_count": 1,
   "metadata": {},
   "outputs": [
    {
     "name": "stderr",
     "output_type": "stream",
     "text": [
      "Using TensorFlow backend.\n"
     ]
    }
   ],
   "source": [
    "import numpy as np\n",
    "import os\n",
    "import glob\n",
    "import shutil\n",
    "from keras.models import load_model\n",
    "import keras\n",
    "# from keras.models import Sequential\n",
    "# from keras.layers import Dense, Dropout, Flatten\n",
    "# from keras.layers import Conv2D, MaxPooling2D, MaxPooling3D\n",
    "# from keras.layers import BatchNormalization\n",
    "\n",
    "import cv2\n",
    "from matplotlib import pyplot as plt\n",
    "from PIL import Image, ImageOps"
   ]
  },
  {
   "cell_type": "markdown",
   "metadata": {},
   "source": [
    "## HM fix for split grouped on imgs"
   ]
  },
  {
   "cell_type": "code",
   "execution_count": null,
   "metadata": {},
   "outputs": [],
   "source": [
    "# # SPECIFY DIRECTORY HERE\n",
    "# img_dir = 'cnn_data5/All5'\n",
    "\n",
    "# ratio_train = 0.85\n",
    "\n",
    "# # Delete existing directories with these names (overwrite them)\n",
    "# train_dir = 'cnn_train'\n",
    "# test_dir = 'cnn_test'\n",
    "# if os.path.isdir('./' + train_dir):\n",
    "#     shutil.rmtree(train_dir)\n",
    "# os.mkdir(train_dir)\n",
    "# if os.path.isdir('./' + test_dir):\n",
    "#     shutil.rmtree(test_dir)\n",
    "# os.mkdir(test_dir)"
   ]
  },
  {
   "cell_type": "code",
   "execution_count": null,
   "metadata": {},
   "outputs": [],
   "source": [
    "# # Read all images, sort by name\n",
    "# img_path = os.path.join(img_dir, '*g')\n",
    "# all_imgs = np.array(glob.glob(img_path))\n",
    "# img_numbers = np.argsort(np.array([int(os.path.basename(img).split('_')[1]) for img in all_imgs]))\n",
    "# all_imgs = all_imgs[img_numbers]\n",
    "\n",
    "# # Split on this index \n",
    "# # +2 hardcoded to make sure we do not cut in the middle of one image\n",
    "# split_idx = round(len(all_imgs) * ratio_train) + 2\n",
    "\n",
    "# train = all_imgs[:split_idx]\n",
    "# test = all_imgs[split_idx:]\n",
    "\n",
    "\n",
    "# # Write to their respective directories\n",
    "# for train_img in train:\n",
    "#     img_name = os.path.basename(train_img)\n",
    "#     shutil.copyfile(train_img, os.path.join(train_dir, img_name))\n",
    "\n",
    "# for test_img in test:\n",
    "#     img_name = os.path.basename(test_img)\n",
    "#     shutil.copyfile(test_img, os.path.join(test_dir, img_name))"
   ]
  },
  {
   "cell_type": "code",
   "execution_count": null,
   "metadata": {},
   "outputs": [],
   "source": [
    "test_name = 'candidate_009_0_cors_419_54_60_60_isRobot_1.png'\n",
    "             canditate_010_0_cors_137_403_60_60_isRobot_0\n",
    "test_name.split('_')"
   ]
  },
  {
   "cell_type": "markdown",
   "metadata": {},
   "source": [
    "## Plot boxes in color on test imgs"
   ]
  },
  {
   "cell_type": "code",
   "execution_count": 7,
   "metadata": {},
   "outputs": [
    {
     "data": {
      "text/plain": [
       "(214, 60, 60, 3)"
      ]
     },
     "execution_count": 7,
     "metadata": {},
     "output_type": "execute_result"
    }
   ],
   "source": [
    "test_dir = 'cnn_test'\n",
    "test_path = os.path.join(test_dir, '*g')\n",
    "\n",
    "test_imgsNom = glob.glob(test_path)\n",
    "test_labels = np.array([int(name[-5]) for name in test_imgsNom])\n",
    "test_imgs = np.array([np.array(cv2.imread(img)) for img in test_imgsNom])\n",
    "# test_imgs = test_imgs.reshape(tuple(np.append(test_imgs.shape, 1)))\n",
    "\n",
    "test_imgs.shape"
   ]
  },
  {
   "cell_type": "code",
   "execution_count": 8,
   "metadata": {},
   "outputs": [],
   "source": [
    "model = load_model('current_cnn.h5')\n",
    "test_pred = model.predict(test_imgs)[:,0] < 0.75"
   ]
  },
  {
   "cell_type": "code",
   "execution_count": null,
   "metadata": {},
   "outputs": [],
   "source": [
    "type(test_pred)"
   ]
  },
  {
   "cell_type": "code",
   "execution_count": 9,
   "metadata": {},
   "outputs": [],
   "source": [
    "def draw_squares(imnom,squares,labels):\n",
    "    \n",
    "    imnom1 = 'imageset_131/16_02_2018__11_18_08_0'+ str(imnom) + '_upper.png'\n",
    "#     print(imnom1)\n",
    "    im = cv2.imread(imnom1)\n",
    "    for idx,square in enumerate(squares):\n",
    "        color = (128,0,0) if labels[idx] == True else (0,255,255)\n",
    "        x,y,w,h = square\n",
    "        im2 = cv2.rectangle(im,(x,y),(x+w,y+h),color,2)\n",
    "#         cv2\n",
    "#         plt.imshow(im2)\n",
    "    newnom = 'labeledColours2/' + str(imnom) + '.png'\n",
    "#     im2.save(newnom) \n",
    "    print(newnom)\n",
    "    cv2.imwrite(newnom, im2)\n",
    "#     plt.show()\n",
    "# im = cv2.imread('imageset_131/16_02_2018__11_18_08_0038_upper.png')\n",
    "# squares = [[209,0,82,82], [274,168,100,100]]\n",
    "# labels = [True,False]\n",
    "# # x,y,w,h = square\n",
    "# # im2 = cv2.rectangle(im,(x,y),(x+w,y+h),(0,255,0),2)\n",
    "# # plt.imshow(im2)\n",
    "# draw_squares(450, squares, labels)"
   ]
  },
  {
   "cell_type": "code",
   "execution_count": 10,
   "metadata": {},
   "outputs": [
    {
     "name": "stdout",
     "output_type": "stream",
     "text": [
      "labeledColours2/554.png\n",
      "labeledColours2/556.png\n",
      "labeledColours2/559.png\n",
      "labeledColours2/562.png\n",
      "labeledColours2/563.png\n",
      "labeledColours2/564.png\n",
      "labeledColours2/565.png\n",
      "labeledColours2/566.png\n",
      "labeledColours2/567.png\n",
      "labeledColours2/570.png\n",
      "labeledColours2/572.png\n",
      "labeledColours2/573.png\n",
      "labeledColours2/575.png\n",
      "labeledColours2/580.png\n",
      "labeledColours2/581.png\n",
      "labeledColours2/583.png\n",
      "labeledColours2/584.png\n",
      "labeledColours2/586.png\n",
      "labeledColours2/587.png\n",
      "labeledColours2/590.png\n",
      "labeledColours2/591.png\n",
      "labeledColours2/592.png\n",
      "labeledColours2/593.png\n",
      "labeledColours2/598.png\n",
      "labeledColours2/602.png\n",
      "labeledColours2/603.png\n",
      "labeledColours2/606.png\n",
      "labeledColours2/609.png\n",
      "labeledColours2/613.png\n",
      "labeledColours2/614.png\n",
      "labeledColours2/617.png\n",
      "labeledColours2/621.png\n",
      "labeledColours2/623.png\n",
      "labeledColours2/627.png\n",
      "labeledColours2/631.png\n",
      "labeledColours2/632.png\n",
      "labeledColours2/633.png\n",
      "labeledColours2/634.png\n",
      "labeledColours2/642.png\n",
      "labeledColours2/644.png\n",
      "labeledColours2/648.png\n"
     ]
    }
   ],
   "source": [
    "test_numbers = np.array([str(os.path.basename(img).split('_')[1]) for img in test_imgsNom])\n",
    "unique_test_numbers, counts = np.unique(test_numbers, return_counts=True)\n",
    "test_imgsNom = np.array(test_imgsNom)\n",
    "\n",
    "for img_number in unique_test_numbers:\n",
    "#     print(img_number)\n",
    "    idx = np.where(test_numbers == img_number)\n",
    "    all_boxes = test_imgsNom[idx]\n",
    "#     print(str(img_number))\n",
    "    img_coordinates = np.array([label.split('_')[5:9] for label in all_boxes]).astype(int)\n",
    "    img_preds = test_pred[idx]\n",
    "    draw_squares(str(img_number),img_coordinates,img_preds)\n",
    "#     print(all_boxes)\n",
    "# test_indices = np.argsort(np.array([int(os.path.basename(img).split('_')[1]) for img in test_imgsNom]))\n",
    "# testimgs_sorted = np.array(test_imgsNom)[test_indices]\n",
    "# testimgs_sorted\n",
    "# img_numbers = np.argsort(np.array([int(os.path.basename(img).split('_')[1]) for img in all_imgs]))\n",
    "# test_files, count = np.unique(test_files, return_counts=True)\n",
    "\n",
    "# img_numbers = np.argsort(np.array([int(os.path.basename(img).split('_')[1]) for img in all_imgs]))\n",
    "# all_imgs = all_imgs[img_numbers]"
   ]
  },
  {
   "cell_type": "code",
   "execution_count": null,
   "metadata": {},
   "outputs": [],
   "source": []
  }
 ],
 "metadata": {
  "kernelspec": {
   "display_name": "Python 3",
   "language": "python",
   "name": "python3"
  },
  "language_info": {
   "codemirror_mode": {
    "name": "ipython",
    "version": 3
   },
   "file_extension": ".py",
   "mimetype": "text/x-python",
   "name": "python",
   "nbconvert_exporter": "python",
   "pygments_lexer": "ipython3",
   "version": "3.6.3"
  }
 },
 "nbformat": 4,
 "nbformat_minor": 2
}
