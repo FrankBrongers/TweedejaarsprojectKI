{
 "cells": [
  {
   "cell_type": "code",
   "execution_count": 1,
   "metadata": {},
   "outputs": [],
   "source": [
    "import numpy as np\n",
    "import os\n",
    "import glob\n",
    "import shutil"
   ]
  },
  {
   "cell_type": "code",
   "execution_count": 2,
   "metadata": {},
   "outputs": [],
   "source": [
    "# SPECIFY DIRECTORY HERE\n",
    "img_dir = 'cnn_data3/All3'\n",
    "\n",
    "ratio_train = 0.85\n",
    "\n",
    "# Delete existing directories with these names (overwrite them)\n",
    "train_dir = 'cnn_data_train_new'\n",
    "test_dir = 'cnn_data_test_new'\n",
    "if os.path.isdir('./' + train_dir):\n",
    "    shutil.rmtree(train_dir)\n",
    "os.mkdir(train_dir)\n",
    "if os.path.isdir('./' + test_dir):\n",
    "    shutil.rmtree(test_dir)\n",
    "os.mkdir(test_dir)"
   ]
  },
  {
   "cell_type": "code",
   "execution_count": 3,
   "metadata": {},
   "outputs": [],
   "source": [
    "# Read all images, sort by name\n",
    "img_path = os.path.join(img_dir, '*g')\n",
    "all_imgs = np.array(glob.glob(img_path))\n",
    "img_numbers = np.argsort(np.array([int(img.split('_')[2]) for img in all_imgs]))\n",
    "all_imgs = all_imgs[img_numbers]\n",
    "\n",
    "# Split on this index \n",
    "# +2 hardcoded to make sure we do not cut in the middle of one image\n",
    "split_idx = round(len(all_imgs) * ratio_train) + 2\n",
    "\n",
    "train = all_imgs[:split_idx]\n",
    "test = all_imgs[split_idx:]\n",
    "\n",
    "# Write to their respective directories\n",
    "for train_img in train:\n",
    "    img_name = os.path.basename(train_img)\n",
    "    shutil.copyfile(train_img, os.path.join(train_dir, img_name))\n",
    "\n",
    "for test_img in test:\n",
    "    img_name = os.path.basename(test_img)\n",
    "    shutil.copyfile(test_img, os.path.join(test_dir, img_name))"
   ]
  },
  {
   "cell_type": "code",
   "execution_count": 7,
   "metadata": {},
   "outputs": [
    {
     "data": {
      "text/plain": [
       "['candidate', '009', '0', 'cors', '419', '54', '60', '60', 'isRobot', '1.png']"
      ]
     },
     "execution_count": 7,
     "metadata": {},
     "output_type": "execute_result"
    }
   ],
   "source": [
    "test_name = 'candidate_009_0_cors_419_54_60_60_isRobot_1.png'\n",
    "test_name.split('_')"
   ]
  }
 ],
 "metadata": {
  "kernelspec": {
   "display_name": "Python 3",
   "language": "python",
   "name": "python3"
  },
  "language_info": {
   "codemirror_mode": {
    "name": "ipython",
    "version": 3
   },
   "file_extension": ".py",
   "mimetype": "text/x-python",
   "name": "python",
   "nbconvert_exporter": "python",
   "pygments_lexer": "ipython3",
   "version": "3.6.7"
  }
 },
 "nbformat": 4,
 "nbformat_minor": 2
}
