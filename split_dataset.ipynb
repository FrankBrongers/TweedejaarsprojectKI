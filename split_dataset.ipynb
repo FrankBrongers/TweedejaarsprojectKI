{
 "cells": [
  {
   "cell_type": "code",
   "execution_count": 9,
   "metadata": {},
   "outputs": [],
   "source": [
    "import numpy as np\n",
    "import os\n",
    "import glob\n",
    "import shutil"
   ]
  },
  {
   "cell_type": "code",
   "execution_count": 10,
   "metadata": {},
   "outputs": [],
   "source": [
    "# SPECIFY DIRECTORY HERE\n",
    "img_dir = 'cnn_data3/All3'"
   ]
  },
  {
   "cell_type": "code",
   "execution_count": 11,
   "metadata": {},
   "outputs": [],
   "source": [
    "ratio_train = 0.85\n",
    "\n",
    "train_dir = 'cnn_data_train'\n",
    "test_dir = 'cnn_data_test'\n",
    "\n",
    "if os.path.isdir('./' + train_dir):\n",
    "    shutil.rmtree(train_dir)\n",
    "os.mkdir(train_dir)\n",
    "if os.path.isdir('./' + test_dir):\n",
    "    shutil.rmtree(test_dir)\n",
    "os.mkdir(test_dir)"
   ]
  },
  {
   "cell_type": "code",
   "execution_count": 12,
   "metadata": {},
   "outputs": [],
   "source": [
    "# Load all data\n",
    "img_path = os.path.join(img_dir, '*g')\n",
    "all_imgs = np.array(glob.glob(img_path))\n",
    "\n",
    "# Split on images with robot images and non-robot images\n",
    "robot_imgs = np.array(list(filter(lambda x: x[-5] == '1', all_imgs)))\n",
    "non_robot_imgs = np.setdiff1d(all_imgs, robot_imgs)\n",
    "\n",
    "# Shuffle all data\n",
    "np.random.seed(0)\n",
    "np.random.shuffle(robot_imgs)\n",
    "np.random.shuffle(non_robot_imgs)\n",
    "\n",
    "# Length of the robot and non-robot sets\n",
    "n_robot = len(robot_imgs)\n",
    "n_non_robot = len(non_robot_imgs)\n",
    "\n",
    "# Split data\n",
    "robot_train_idx = round(ratio_train * n_robot)\n",
    "non_robot_train_idx = round(ratio_train * n_non_robot)\n",
    "\n",
    "# Training set\n",
    "train_robot = robot_imgs[:robot_train_idx]\n",
    "train_non_robot = non_robot_imgs[:non_robot_train_idx]\n",
    "train_set = np.concatenate([train_robot, train_non_robot])\n",
    "\n",
    "# Test set\n",
    "test_robot = robot_imgs[robot_train_idx:]\n",
    "test_non_robot = non_robot_imgs[non_robot_train_idx:]\n",
    "test_set = np.concatenate([test_robot, test_non_robot])"
   ]
  },
  {
   "cell_type": "code",
   "execution_count": 13,
   "metadata": {},
   "outputs": [],
   "source": [
    "for train_img in train_set:\n",
    "    img_name = os.path.basename(train_img)\n",
    "    shutil.copyfile(train_img, os.path.join(train_dir, img_name))\n",
    "    \n",
    "for test_img in test_set:\n",
    "    img_name = os.path.basename(test_img)\n",
    "    shutil.copyfile(test_img, os.path.join(test_dir, img_name))"
   ]
  },
  {
   "cell_type": "code",
   "execution_count": null,
   "metadata": {},
   "outputs": [],
   "source": []
  },
  {
   "cell_type": "code",
   "execution_count": null,
   "metadata": {},
   "outputs": [],
   "source": []
  }
 ],
 "metadata": {
  "kernelspec": {
   "display_name": "Python 3",
   "language": "python",
   "name": "python3"
  },
  "language_info": {
   "codemirror_mode": {
    "name": "ipython",
    "version": 3
   },
   "file_extension": ".py",
   "mimetype": "text/x-python",
   "name": "python",
   "nbconvert_exporter": "python",
   "pygments_lexer": "ipython3",
   "version": "3.6.3"
  }
 },
 "nbformat": 4,
 "nbformat_minor": 2
}
