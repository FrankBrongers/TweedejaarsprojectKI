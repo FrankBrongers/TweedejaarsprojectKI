{
 "cells": [
  {
   "cell_type": "code",
   "execution_count": null,
   "metadata": {},
   "outputs": [],
   "source": [
    "import cv2\n",
    "import numpy as np\n",
    "import matplotlib.pyplot as plt\n",
    "from skimage.feature import blob_dog, blob_log, blob_doh"
   ]
  },
  {
   "cell_type": "code",
   "execution_count": null,
   "metadata": {},
   "outputs": [],
   "source": [
    "def blob_detection(bin_img, original_img):\n",
    "    bin_img = cv2.imread(bin_img, cv2.IMREAD_GRAYSCALE)\n",
    "    original_img = cv2.imread(original_img)\n",
    "\n",
    "    blobs_doh = blob_doh(bin_img, max_sigma=50, min_sigma=30, threshold=.01, num_sigma=10)\n",
    "    \n",
    "    fig, axes = plt.subplots(1, 1, figsize=(20, 10), sharex=True, sharey=True)\n",
    "    axes.imshow(original_img)\n",
    "    axes.axis('off')\n",
    "    for blob in blobs_doh:\n",
    "        y, x, r = blob\n",
    "        c = plt.Circle((x, y), r, color='red', linewidth=3, fill=False)\n",
    "        axes.add_patch(c)\n",
    "    plt.savefig('presentatie')\n",
    "blob_detection('bin_image2/16_02_2018__11_18_08_0005_upper.png', 'imageset_131/16_02_2018__11_18_08_0005_upper.png')"
   ]
  },
  {
   "cell_type": "markdown",
   "metadata": {},
   "source": [
    "## Running the code below will cause an error because there will be a plot for each image. Running it for one image at a time should be fine. These images do not have to be saved anyway, we only need the "
   ]
  },
  {
   "cell_type": "code",
   "execution_count": null,
   "metadata": {},
   "outputs": [],
   "source": [
    "# # Specify directory where all images are saved\n",
    "# img_dir = 'imageset_131'\n",
    "# img_path = os.path.join(img_dir, '*g')\n",
    "# original_imgs = glob.glob(img_path)\n",
    "\n",
    "# # Directory where binary images are saved\n",
    "# bin_dir = 'bin_image2'\n",
    "# bin_path = os.path.join(bin_dir, '*g')\n",
    "# binary_imgs = glob.glob(bin_path)\n",
    "\n",
    "# n_images = len(original_imgs)\n",
    "\n",
    "# for i in range(n_images):\n",
    "#     blob_detection(binary_imgs[i], original_imgs[i])"
   ]
  }
 ],
 "metadata": {
  "kernelspec": {
   "display_name": "Python 3",
   "language": "python",
   "name": "python3"
  },
  "language_info": {
   "codemirror_mode": {
    "name": "ipython",
    "version": 3
   },
   "file_extension": ".py",
   "mimetype": "text/x-python",
   "name": "python",
   "nbconvert_exporter": "python",
   "pygments_lexer": "ipython3",
   "version": "3.6.3"
  }
 },
 "nbformat": 4,
 "nbformat_minor": 2
}
