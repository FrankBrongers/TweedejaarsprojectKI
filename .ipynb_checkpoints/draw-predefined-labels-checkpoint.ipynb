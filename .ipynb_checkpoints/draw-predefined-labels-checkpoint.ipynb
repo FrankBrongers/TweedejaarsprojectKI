{
 "cells": [
  {
   "cell_type": "code",
   "execution_count": 1,
   "metadata": {},
   "outputs": [],
   "source": [
    "import cv2\n",
    "import numpy as np\n",
    "import os\n",
    "import glob"
   ]
  },
  {
   "cell_type": "code",
   "execution_count": 2,
   "metadata": {},
   "outputs": [],
   "source": [
    "def draw_boxes(img_name, all_labels):\n",
    "    img = cv2.imread(img_name)\n",
    "    img_name = os.path.basename(img_name)\n",
    "\n",
    "    # Filter labels to get only the ones for this image\n",
    "    img_labels = list(filter(lambda x: img_name in x, all_labels))\n",
    "\n",
    "    for label in img_labels:\n",
    "        if 'not_in_image' in label:\n",
    "            continue\n",
    "        # Extract only the relevant parts (columns) of the label\n",
    "        box = label.split('|')[4:8]\n",
    "        [x1, y1, x2, y2] = list(map(int, box))\n",
    "        # Draw the box\n",
    "        cv2.rectangle(img, (x1, y1), (x2, y2), (255, 0, 0), 2)\n",
    "\n",
    "    cv2.imwrite(os.path.join('labeled_data', img_name), img)"
   ]
  },
  {
   "cell_type": "code",
   "execution_count": 3,
   "metadata": {},
   "outputs": [],
   "source": [
    "# ## Create new directory\n",
    "# labeled_directory = 'labeled_data'\n",
    "# if not os.path.isdir('./' + labeled_directory):\n",
    "#     os.mkdir(labeled_directory)\n",
    "\n",
    "# # Read label file for all labels of all images\n",
    "# with open('labels.txt') as f:\n",
    "#     labels = f.readlines()\n",
    "# labels = np.array(labels[6:])\n",
    "\n",
    "# # Specify directory where all images are saved\n",
    "# img_dir = 'imageset_131'\n",
    "# img_path = os.path.join(img_dir, '*g')\n",
    "# files = glob.glob(img_path)\n",
    "\n",
    "# for img in files:\n",
    "#     draw_boxes(img, labels)"
   ]
  },
  {
   "cell_type": "code",
   "execution_count": null,
   "metadata": {},
   "outputs": [],
   "source": []
  }
 ],
 "metadata": {
  "kernelspec": {
   "display_name": "Python 3",
   "language": "python",
   "name": "python3"
  },
  "language_info": {
   "codemirror_mode": {
    "name": "ipython",
    "version": 3
   },
   "file_extension": ".py",
   "mimetype": "text/x-python",
   "name": "python",
   "nbconvert_exporter": "python",
   "pygments_lexer": "ipython3",
   "version": "3.6.7"
  }
 },
 "nbformat": 4,
 "nbformat_minor": 2
}
