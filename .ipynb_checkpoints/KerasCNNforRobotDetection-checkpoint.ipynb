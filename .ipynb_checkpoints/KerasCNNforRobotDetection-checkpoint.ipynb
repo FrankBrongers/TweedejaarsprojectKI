{
 "cells": [
  {
   "cell_type": "code",
   "execution_count": 80,
   "metadata": {},
   "outputs": [],
   "source": [
    "import keras\n",
    "from keras.models import Sequential\n",
    "from keras.layers import Dense, Dropout, Flatten\n",
    "from keras.layers import Conv2D, MaxPooling2D\n",
    "import numpy as np\n",
    "import os\n",
    "import cv2\n",
    "import glob"
   ]
  },
  {
   "cell_type": "code",
   "execution_count": 81,
   "metadata": {},
   "outputs": [],
   "source": [
    "train_dir = 'cnn_data_train'\n",
    "train_path = os.path.join(train_dir, '*g')\n",
    "\n",
    "train_imgs = glob.glob(train_path)\n",
    "train_labels = [int(name[-5]) for name in train_imgs]\n",
    "train_imgs = np.array([np.array(cv2.imread(img)) for img in train_imgs])"
   ]
  },
  {
   "cell_type": "code",
   "execution_count": 82,
   "metadata": {},
   "outputs": [],
   "source": [
    "# val_dir = 'cnn_data_val'\n",
    "# val_path = os.path.join(val_dir, '*g')\n",
    "\n",
    "# val_imgs = glob.glob(val_path)\n",
    "# val_labels = [int(name[-5]) for name in val_imgs]\n",
    "# val_imgs = np.array([np.array(cv2.imread(img)) for img in val_imgs])"
   ]
  },
  {
   "cell_type": "code",
   "execution_count": 83,
   "metadata": {},
   "outputs": [],
   "source": [
    "test_dir = 'cnn_data_test'\n",
    "test_path = os.path.join(test_dir, '*g')\n",
    "\n",
    "test_imgs = glob.glob(test_path)\n",
    "test_labels = np.array([int(name[-5]) for name in test_imgs])\n",
    "test_imgs = np.array([np.array(cv2.imread(img)) for img in test_imgs])"
   ]
  },
  {
   "cell_type": "code",
   "execution_count": 84,
   "metadata": {},
   "outputs": [
    {
     "name": "stdout",
     "output_type": "stream",
     "text": [
      "[[1. 0.]\n",
      " [1. 0.]\n",
      " [1. 0.]\n",
      " ...\n",
      " [0. 1.]\n",
      " [1. 0.]\n",
      " [1. 0.]]\n"
     ]
    }
   ],
   "source": [
    "print(train_label)"
   ]
  },
  {
   "cell_type": "markdown",
   "metadata": {},
   "source": [
    "For image loading and preprocessing see:\n",
    "https://keras.io/preprocessing/image/"
   ]
  },
  {
   "cell_type": "code",
   "execution_count": 85,
   "metadata": {},
   "outputs": [
    {
     "name": "stdout",
     "output_type": "stream",
     "text": [
      "train_imgs shape: (1226, 60, 60, 3)\n",
      "1226 train samples\n",
      "216 test samples\n"
     ]
    }
   ],
   "source": [
    "batch_size = 128\n",
    "num_classes = 2\n",
    "epochs = 30\n",
    "\n",
    "# input image dimensions\n",
    "img_rows, img_cols = 60, 60\n",
    "\n",
    "print('train_imgs shape:', train_imgs.shape)\n",
    "print(train_imgs.shape[0], 'train samples')\n",
    "print(test_imgs.shape[0], 'test samples')\n",
    "\n",
    "# convert class vectors to binary class matrices\n",
    "train_label = keras.utils.to_categorical(train_labels, num_classes)\n",
    "# val_label = keras.utils.to_categorical(val_labels, num_classes)\n",
    "test_label = keras.utils.to_categorical(test_labels, num_classes)"
   ]
  },
  {
   "cell_type": "markdown",
   "metadata": {},
   "source": [
    "The model used by us:"
   ]
  },
  {
   "cell_type": "code",
   "execution_count": 86,
   "metadata": {
    "scrolled": true
   },
   "outputs": [],
   "source": [
    "model = Sequential()\n",
    "model.add(Conv2D(32, kernel_size=(3, 3),\n",
    "                 activation='relu',\n",
    "                 input_shape=(img_rows,img_cols,3)))\n",
    "model.add(Conv2D(64, (3, 3), activation='relu'))\n",
    "model.add(MaxPooling2D(pool_size=(2, 2)))\n",
    "model.add(Dropout(0.25))\n",
    "model.add(Flatten())\n",
    "model.add(Dense(128, activation='relu'))\n",
    "model.add(Dropout(0.5))\n",
    "model.add(Dense(num_classes, activation='softmax'))"
   ]
  },
  {
   "cell_type": "markdown",
   "metadata": {},
   "source": [
    "The model used by DNT:"
   ]
  },
  {
   "cell_type": "code",
   "execution_count": 87,
   "metadata": {},
   "outputs": [],
   "source": [
    "model2 = Sequential()\n",
    "model2.add(Conv2D(4, kernel_size=(5, 5),\n",
    "                 activation='relu',\n",
    "                 input_shape=(img_rows,img_cols,3)))\n",
    "model2.add(Conv2D(5, (3, 3), activation='relu', kernel_initializer = 'random_normal'))\n",
    "model2.add(Dropout(0.3))\n",
    "model2.add(Flatten())\n",
    "model2.add(Dense(16, activation='relu', kernel_initializer = 'random_normal', input_shape=(24*24*5,)))\n",
    "model2.add(Dense(num_classes, activation='softmax', kernel_initializer = 'random_normal'))"
   ]
  },
  {
   "cell_type": "code",
   "execution_count": 88,
   "metadata": {},
   "outputs": [
    {
     "name": "stdout",
     "output_type": "stream",
     "text": [
      "Train on 980 samples, validate on 246 samples\n",
      "Epoch 1/30\n",
      "980/980 [==============================] - 3s 3ms/step - loss: 1.7880 - acc: 0.5918 - val_loss: 0.5520 - val_acc: 0.7154\n",
      "Epoch 2/30\n",
      "980/980 [==============================] - 2s 2ms/step - loss: 0.5498 - acc: 0.7122 - val_loss: 0.4676 - val_acc: 0.7764\n",
      "Epoch 3/30\n",
      "980/980 [==============================] - 2s 2ms/step - loss: 0.4853 - acc: 0.7541 - val_loss: 0.4583 - val_acc: 0.8008\n",
      "Epoch 4/30\n",
      "980/980 [==============================] - 2s 2ms/step - loss: 0.4265 - acc: 0.8031 - val_loss: 0.4562 - val_acc: 0.8089\n",
      "Epoch 5/30\n",
      "980/980 [==============================] - 2s 2ms/step - loss: 0.3852 - acc: 0.8143 - val_loss: 0.4547 - val_acc: 0.7805\n",
      "Epoch 6/30\n",
      "980/980 [==============================] - 2s 2ms/step - loss: 0.3759 - acc: 0.8286 - val_loss: 0.6198 - val_acc: 0.6504\n",
      "Epoch 7/30\n",
      "980/980 [==============================] - 2s 2ms/step - loss: 0.3572 - acc: 0.8429 - val_loss: 0.4496 - val_acc: 0.8049\n",
      "Epoch 8/30\n",
      "980/980 [==============================] - 2s 2ms/step - loss: 0.3442 - acc: 0.8541 - val_loss: 0.9210 - val_acc: 0.4187\n",
      "Epoch 9/30\n",
      "980/980 [==============================] - 2s 2ms/step - loss: 0.3801 - acc: 0.8163 - val_loss: 0.4642 - val_acc: 0.8049\n",
      "Epoch 10/30\n",
      "980/980 [==============================] - 2s 2ms/step - loss: 0.2496 - acc: 0.8939 - val_loss: 0.7216 - val_acc: 0.6585\n",
      "Epoch 11/30\n",
      "980/980 [==============================] - 2s 2ms/step - loss: 0.3007 - acc: 0.8745 - val_loss: 0.4566 - val_acc: 0.8171\n",
      "Epoch 12/30\n",
      "980/980 [==============================] - 2s 2ms/step - loss: 0.2251 - acc: 0.9133 - val_loss: 0.4582 - val_acc: 0.7967\n",
      "Epoch 13/30\n",
      "980/980 [==============================] - 2s 2ms/step - loss: 0.1748 - acc: 0.9367 - val_loss: 0.6666 - val_acc: 0.8293\n",
      "Epoch 14/30\n",
      "980/980 [==============================] - 2s 2ms/step - loss: 0.1822 - acc: 0.9245 - val_loss: 0.5647 - val_acc: 0.7398\n",
      "Epoch 15/30\n",
      "980/980 [==============================] - 2s 2ms/step - loss: 0.1972 - acc: 0.9133 - val_loss: 0.8010 - val_acc: 0.6016\n",
      "Epoch 16/30\n",
      "980/980 [==============================] - 2s 2ms/step - loss: 0.1841 - acc: 0.9306 - val_loss: 0.5555 - val_acc: 0.8211\n",
      "Epoch 17/30\n",
      "980/980 [==============================] - 2s 2ms/step - loss: 0.1016 - acc: 0.9633 - val_loss: 0.5401 - val_acc: 0.8049\n",
      "Epoch 18/30\n",
      "980/980 [==============================] - 2s 2ms/step - loss: 0.1128 - acc: 0.9612 - val_loss: 0.5540 - val_acc: 0.7805\n",
      "Epoch 19/30\n",
      "980/980 [==============================] - 2s 2ms/step - loss: 0.1162 - acc: 0.9643 - val_loss: 0.5312 - val_acc: 0.8293\n",
      "Epoch 20/30\n",
      "980/980 [==============================] - 2s 2ms/step - loss: 0.3660 - acc: 0.8612 - val_loss: 0.4968 - val_acc: 0.8008\n",
      "Epoch 21/30\n",
      "980/980 [==============================] - 2s 2ms/step - loss: 0.1321 - acc: 0.9653 - val_loss: 0.5432 - val_acc: 0.8130\n",
      "Epoch 22/30\n",
      "980/980 [==============================] - 2s 2ms/step - loss: 0.0806 - acc: 0.9786 - val_loss: 0.5806 - val_acc: 0.8049\n",
      "Epoch 23/30\n",
      "980/980 [==============================] - 2s 2ms/step - loss: 0.0668 - acc: 0.9776 - val_loss: 0.6232 - val_acc: 0.7805\n",
      "Epoch 24/30\n",
      "980/980 [==============================] - 2s 2ms/step - loss: 0.0616 - acc: 0.9827 - val_loss: 0.6143 - val_acc: 0.8130\n",
      "Epoch 25/30\n",
      "980/980 [==============================] - 2s 2ms/step - loss: 0.0471 - acc: 0.9867 - val_loss: 0.6267 - val_acc: 0.7886\n",
      "Epoch 26/30\n",
      "980/980 [==============================] - 2s 2ms/step - loss: 0.0449 - acc: 0.9878 - val_loss: 0.9226 - val_acc: 0.8171\n",
      "Epoch 27/30\n",
      "980/980 [==============================] - 2s 2ms/step - loss: 0.0984 - acc: 0.9663 - val_loss: 0.6070 - val_acc: 0.8008\n",
      "Epoch 28/30\n",
      "980/980 [==============================] - 2s 2ms/step - loss: 0.0353 - acc: 0.9929 - val_loss: 0.6501 - val_acc: 0.8130\n",
      "Epoch 29/30\n",
      "980/980 [==============================] - 2s 2ms/step - loss: 0.0279 - acc: 0.9949 - val_loss: 0.7196 - val_acc: 0.8049\n",
      "Epoch 30/30\n",
      "980/980 [==============================] - 2s 2ms/step - loss: 0.0283 - acc: 0.9918 - val_loss: 0.7474 - val_acc: 0.8211\n",
      "Test loss: 0.45766596992810565\n",
      "Test accuracy: 0.8703703703703703\n"
     ]
    }
   ],
   "source": [
    "model2.compile(loss=keras.losses.categorical_crossentropy,\n",
    "              optimizer=keras.optimizers.Adadelta(),\n",
    "              metrics=['accuracy'])\n",
    "\n",
    "model2.fit(train_imgs, train_label,\n",
    "          batch_size=batch_size,\n",
    "          epochs=epochs,\n",
    "          verbose=1,\n",
    "          validation_split=.2)\n",
    "score = model2.evaluate(test_imgs, test_label, verbose=0)\n",
    "print('Test loss:', score[0])\n",
    "print('Test accuracy:', score[1])"
   ]
  },
  {
   "cell_type": "code",
   "execution_count": 39,
   "metadata": {},
   "outputs": [
    {
     "name": "stdout",
     "output_type": "stream",
     "text": [
      "Test loss: 1.1064088653635096\n",
      "Test accuracy: 0.8101851829776058\n"
     ]
    }
   ],
   "source": [
    "score = model2.evaluate(test_imgs, test_label, verbose=0)\n",
    "print('Test loss:', score[0])\n",
    "print('Test accuracy:', score[1])"
   ]
  },
  {
   "cell_type": "code",
   "execution_count": 89,
   "metadata": {},
   "outputs": [
    {
     "name": "stdout",
     "output_type": "stream",
     "text": [
      "188\n",
      "216\n",
      "+-----------+------+--------+\n",
      "| Pred\\Real | True | False  |\n",
      "+===========+======+========+\n",
      "| True      | 134  | 21     |\n",
      "+-----------+------+--------+\n",
      "| False     | 7    | 54     |\n",
      "+-----------+------+--------+\n"
     ]
    }
   ],
   "source": [
    "from texttable import Texttable\n",
    "\n",
    "pred_test =  model2.predict(test_imgs)\n",
    "predT = np.array(pred_test[:,0]) < 0.5\n",
    "realT = test_labels == 1\n",
    "print(sum(predT == realT))\n",
    "print(len(predT))\n",
    "# print(predT)\n",
    "# print(realT)\n",
    "def accuracy(predT, realT):\n",
    "    return sum(predT == realT)/ len(realT)    \n",
    "\n",
    "def precision(predT,realT):\n",
    "    # if it says robot is it robot?\n",
    "    return sum(predT and realT)/predT\n",
    "\n",
    "# def recall()\n",
    "\n",
    "def evalMatrix(predT,realT):\n",
    "    t = Texttable()\n",
    "    t.add_rows([['Pred\\Real', 'True', 'False '], ['True', sum(predT & realT), sum(predT & (~realT)) ], ['False',  sum(~predT & realT), sum(~ predT & ~ realT) ]])\n",
    "    print(t.draw())\n",
    "evalMatrix(np.array(predT),np.array(realT))\n",
    "# print(~realT)"
   ]
  },
  {
   "cell_type": "code",
   "execution_count": 77,
   "metadata": {},
   "outputs": [
    {
     "name": "stdout",
     "output_type": "stream",
     "text": [
      "[ True False False False]\n"
     ]
    }
   ],
   "source": [
    "leon = np.array([True,True,False,False])\n",
    "Hm = np.array([True,False,False,True])\n",
    "print(leon & Hm)"
   ]
  },
  {
   "cell_type": "code",
   "execution_count": 79,
   "metadata": {},
   "outputs": [],
   "source": [
    "# model2.compile(loss=keras.losses.categorical_crossentropy,\n",
    "#               optimizer=keras.optimizers.Adadelta(),\n",
    "#               metrics=['accuracy'])\n",
    "\n",
    "# model2.fit(train_imgs, train_label,\n",
    "#           batch_size=batch_size,\n",
    "#           epochs=epochs,\n",
    "#           verbose=1,\n",
    "#           validation_split=.2)\n",
    "# score = model2.evaluate(test_imgs, test_label, verbose=0)\n",
    "# print('Test loss:', score[0])\n",
    "# print('Test accuracy:', score[1])"
   ]
  },
  {
   "cell_type": "markdown",
   "metadata": {},
   "source": [
    "The model used by B-Human"
   ]
  },
  {
   "cell_type": "code",
   "execution_count": 93,
   "metadata": {},
   "outputs": [],
   "source": [
    "import matplotlib.pyplot as plt\n",
    "\n",
    "# B-Human CNN komt hier"
   ]
  },
  {
   "cell_type": "code",
   "execution_count": 94,
   "metadata": {},
   "outputs": [
    {
     "name": "stdout",
     "output_type": "stream",
     "text": [
      "[1 0 1 0 0 0 1 0 1 1 1 1 0 0 0 1 1 1 0 1 1 1 1 0 0 1 1 1 1 1 1 1 1 1 0 0 1\n",
      " 1 1 1 1 0 1 1 1 1 1 0 1 0 1 1 1 0 1 1 0 1 1 1 1 1 1 1 1 0 1 0 1 0 0 1 1 1\n",
      " 0 0 1 0 1 1 0 1 1 1 0 0 1 1 0 1 1 0 1 1 1 1 0 1 0 1 0 0 1 0 1 1 1 0 1 1 0\n",
      " 0 0 1 0 1 1 1 1 1 1 1 1 1 1 1 1 0 0 0 0 1 1 1 1 1 1 1 0 1 1 1 0 0 0 0 1 1\n",
      " 0 0 0 0 0 1 0 1 1 0 1 0 1 1 1 1 1 0 1 0 0 1 1 1 1 1 1 1 1 0 1 1 1 0 1 1 1\n",
      " 0 0 1 1 0 1 1 0 0 1 1 0 1 1 1 1 0 0 1 1 0 1 1 1 0 1 1 0 0 0 1]\n"
     ]
    },
    {
     "data": {
      "text/plain": [
       "<matplotlib.image.AxesImage at 0x7fd240fb2ba8>"
      ]
     },
     "execution_count": 94,
     "metadata": {},
     "output_type": "execute_result"
    },
    {
     "data": {
      "image/png": "[encoded data removed]",
      "text/plain": [
       "<matplotlib.figure.Figure at 0x7fd240fc4940>"
      ]
     },
     "metadata": {},
     "output_type": "display_data"
    }
   ],
   "source": [
    "print(test_labels)\n",
    "plt.imshow(test_imgs[0])"
   ]
  }
 ],
 "metadata": {
  "kernelspec": {
   "display_name": "Python 3",
   "language": "python",
   "name": "python3"
  },
  "language_info": {
   "codemirror_mode": {
    "name": "ipython",
    "version": 3
   },
   "file_extension": ".py",
   "mimetype": "text/x-python",
   "name": "python",
   "nbconvert_exporter": "python",
   "pygments_lexer": "ipython3",
   "version": "3.6.3"
  }
 },
 "nbformat": 4,
 "nbformat_minor": 2
}
