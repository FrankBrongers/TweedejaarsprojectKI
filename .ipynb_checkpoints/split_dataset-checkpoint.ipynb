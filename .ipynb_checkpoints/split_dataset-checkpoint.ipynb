{
 "cells": [
  {
   "cell_type": "code",
   "execution_count": 1,
   "metadata": {},
   "outputs": [],
   "source": [
    "import numpy as np\n",
    "import os\n",
    "import glob\n",
    "import shutil"
   ]
  },
  {
   "cell_type": "code",
   "execution_count": 2,
   "metadata": {},
   "outputs": [],
   "source": [
    "# SPECIFY DIRECTORY HERE\n",
    "img_dir = 'cnn_data3/All3'"
   ]
  },
  {
   "cell_type": "code",
   "execution_count": 3,
   "metadata": {},
   "outputs": [],
   "source": [
    "ratio_train = 0.7\n",
    "\n",
    "train_dir = 'cnn_data_train'\n",
    "test_dir = 'cnn_data_test'\n",
    "\n",
    "if os.path.isdir('./' + train_dir):\n",
    "    shutil.rmtree(train_dir)\n",
    "os.mkdir(train_dir)\n",
    "if os.path.isdir('./' + test_dir):\n",
    "    shutil.rmtree(test_dir)\n",
    "os.mkdir(test_dir)"
   ]
  },
  {
   "cell_type": "code",
   "execution_count": 4,
   "metadata": {},
   "outputs": [
    {
     "ename": "NameError",
     "evalue": "name 'ratio_val' is not defined",
     "output_type": "error",
     "traceback": [
      "\u001b[0;31m---------------------------------------------------------------------------\u001b[0m",
      "\u001b[0;31mNameError\u001b[0m                                 Traceback (most recent call last)",
      "\u001b[0;32m<ipython-input-4-e1de0bd55904>\u001b[0m in \u001b[0;36m<module>\u001b[0;34m()\u001b[0m\n\u001b[1;32m     18\u001b[0m \u001b[0;31m# Split data\u001b[0m\u001b[0;34m\u001b[0m\u001b[0;34m\u001b[0m\u001b[0m\n\u001b[1;32m     19\u001b[0m \u001b[0mrobot_train_idx\u001b[0m \u001b[0;34m=\u001b[0m \u001b[0mround\u001b[0m\u001b[0;34m(\u001b[0m\u001b[0mratio_train\u001b[0m \u001b[0;34m*\u001b[0m \u001b[0mn_robot\u001b[0m\u001b[0;34m)\u001b[0m\u001b[0;34m\u001b[0m\u001b[0m\n\u001b[0;32m---> 20\u001b[0;31m \u001b[0mrobot_val_idx\u001b[0m \u001b[0;34m=\u001b[0m \u001b[0mround\u001b[0m\u001b[0;34m(\u001b[0m\u001b[0;34m(\u001b[0m\u001b[0mratio_train\u001b[0m \u001b[0;34m+\u001b[0m \u001b[0mratio_val\u001b[0m\u001b[0;34m)\u001b[0m \u001b[0;34m*\u001b[0m \u001b[0mn_robot\u001b[0m\u001b[0;34m)\u001b[0m\u001b[0;34m\u001b[0m\u001b[0m\n\u001b[0m\u001b[1;32m     21\u001b[0m \u001b[0mnon_robot_train_idx\u001b[0m \u001b[0;34m=\u001b[0m \u001b[0mround\u001b[0m\u001b[0;34m(\u001b[0m\u001b[0mratio_train\u001b[0m \u001b[0;34m*\u001b[0m \u001b[0mn_non_robot\u001b[0m\u001b[0;34m)\u001b[0m\u001b[0;34m\u001b[0m\u001b[0m\n\u001b[1;32m     22\u001b[0m \u001b[0mnon_robot_val_idx\u001b[0m \u001b[0;34m=\u001b[0m \u001b[0mround\u001b[0m\u001b[0;34m(\u001b[0m\u001b[0;34m(\u001b[0m\u001b[0mratio_train\u001b[0m \u001b[0;34m+\u001b[0m \u001b[0mratio_val\u001b[0m\u001b[0;34m)\u001b[0m \u001b[0;34m*\u001b[0m \u001b[0mn_non_robot\u001b[0m\u001b[0;34m)\u001b[0m\u001b[0;34m\u001b[0m\u001b[0m\n",
      "\u001b[0;31mNameError\u001b[0m: name 'ratio_val' is not defined"
     ]
    }
   ],
   "source": [
    "# Load all data\n",
    "img_path = os.path.join(img_dir, '*g')\n",
    "all_imgs = np.array(glob.glob(img_path))\n",
    "\n",
    "# Split on images with robot images and non-robot images\n",
    "robot_imgs = np.array(list(filter(lambda x: x[-5] == '1', all_imgs)))\n",
    "non_robot_imgs = np.setdiff1d(all_imgs, robot_imgs)\n",
    "\n",
    "# Shuffle all data\n",
    "np.random.seed(0)\n",
    "np.random.shuffle(robot_imgs)\n",
    "np.random.shuffle(non_robot_imgs)\n",
    "\n",
    "# Length of the robot and non-robot sets\n",
    "n_robot = len(robot_imgs)\n",
    "n_non_robot = len(non_robot_imgs)\n",
    "\n",
    "# Split data\n",
    "robot_train_idx = round(ratio_train * n_robot)\n",
    "robot_val_idx = round((ratio_train + ratio_val) * n_robot)\n",
    "non_robot_train_idx = round(ratio_train * n_non_robot)\n",
    "non_robot_val_idx = round((ratio_train + ratio_val) * n_non_robot)\n",
    "\n",
    "# Training set\n",
    "train_robot = robot_imgs[:robot_train_idx]\n",
    "train_non_robot = non_robot_imgs[:non_robot_train_idx]\n",
    "train_set = np.concatenate([train_robot, train_non_robot])\n",
    "\n",
    "# Validation set\n",
    "val_robot = robot_imgs[robot_train_idx:robot_val_idx]\n",
    "val_non_robot = non_robot_imgs[non_robot_train_idx:non_robot_val_idx]\n",
    "val_set = np.concatenate([val_robot, val_non_robot])\n",
    "\n",
    "# Test set\n",
    "test_robot = robot_imgs[robot_val_idx:]\n",
    "test_non_robot = non_robot_imgs[non_robot_val_idx:]\n",
    "test_set = np.concatenate([test_robot, test_non_robot])"
   ]
  },
  {
   "cell_type": "code",
   "execution_count": 5,
   "metadata": {},
   "outputs": [
    {
     "ename": "NameError",
     "evalue": "name 'train_set' is not defined",
     "output_type": "error",
     "traceback": [
      "\u001b[0;31m---------------------------------------------------------------------------\u001b[0m",
      "\u001b[0;31mNameError\u001b[0m                                 Traceback (most recent call last)",
      "\u001b[0;32m<ipython-input-5-5c4a71d17a33>\u001b[0m in \u001b[0;36m<module>\u001b[0;34m()\u001b[0m\n\u001b[0;32m----> 1\u001b[0;31m \u001b[0;32mfor\u001b[0m \u001b[0mtrain_img\u001b[0m \u001b[0;32min\u001b[0m \u001b[0mtrain_set\u001b[0m\u001b[0;34m:\u001b[0m\u001b[0;34m\u001b[0m\u001b[0m\n\u001b[0m\u001b[1;32m      2\u001b[0m     \u001b[0mimg_name\u001b[0m \u001b[0;34m=\u001b[0m \u001b[0mos\u001b[0m\u001b[0;34m.\u001b[0m\u001b[0mpath\u001b[0m\u001b[0;34m.\u001b[0m\u001b[0mbasename\u001b[0m\u001b[0;34m(\u001b[0m\u001b[0mtrain_img\u001b[0m\u001b[0;34m)\u001b[0m\u001b[0;34m\u001b[0m\u001b[0m\n\u001b[1;32m      3\u001b[0m     \u001b[0mshutil\u001b[0m\u001b[0;34m.\u001b[0m\u001b[0mcopyfile\u001b[0m\u001b[0;34m(\u001b[0m\u001b[0mtrain_img\u001b[0m\u001b[0;34m,\u001b[0m \u001b[0mos\u001b[0m\u001b[0;34m.\u001b[0m\u001b[0mpath\u001b[0m\u001b[0;34m.\u001b[0m\u001b[0mjoin\u001b[0m\u001b[0;34m(\u001b[0m\u001b[0mtrain_dir\u001b[0m\u001b[0;34m,\u001b[0m \u001b[0mimg_name\u001b[0m\u001b[0;34m)\u001b[0m\u001b[0;34m)\u001b[0m\u001b[0;34m\u001b[0m\u001b[0m\n\u001b[1;32m      4\u001b[0m \u001b[0;34m\u001b[0m\u001b[0m\n\u001b[1;32m      5\u001b[0m \u001b[0;32mfor\u001b[0m \u001b[0mval_img\u001b[0m \u001b[0;32min\u001b[0m \u001b[0mval_set\u001b[0m\u001b[0;34m:\u001b[0m\u001b[0;34m\u001b[0m\u001b[0m\n",
      "\u001b[0;31mNameError\u001b[0m: name 'train_set' is not defined"
     ]
    }
   ],
   "source": [
    "for train_img in train_set:\n",
    "    img_name = os.path.basename(train_img)\n",
    "    shutil.copyfile(train_img, os.path.join(train_dir, img_name))\n",
    "    \n",
    "for val_img in val_set:\n",
    "    img_name = os.path.basename(val_img)\n",
    "    shutil.copyfile(val_img, os.path.join(val_dir, img_name))\n",
    "    \n",
    "for test_img in test_set:\n",
    "    img_name = os.path.basename(test_img)\n",
    "    shutil.copyfile(test_img, os.path.join(test_dir, img_name))"
   ]
  },
  {
   "cell_type": "code",
   "execution_count": null,
   "metadata": {},
   "outputs": [],
   "source": []
  }
 ],
 "metadata": {
  "kernelspec": {
   "display_name": "Python 3",
   "language": "python",
   "name": "python3"
  },
  "language_info": {
   "codemirror_mode": {
    "name": "ipython",
    "version": 3
   },
   "file_extension": ".py",
   "mimetype": "text/x-python",
   "name": "python",
   "nbconvert_exporter": "python",
   "pygments_lexer": "ipython3",
   "version": "3.6.3"
  }
 },
 "nbformat": 4,
 "nbformat_minor": 2
}
