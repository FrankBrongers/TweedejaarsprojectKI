{
 "cells": [
  {
   "cell_type": "code",
   "execution_count": null,
   "metadata": {},
   "outputs": [],
   "source": [
    "import numpy as np\n",
    "import os\n",
    "import glob\n",
    "import shutil\n",
    "import cv2"
   ]
  },
  {
   "cell_type": "markdown",
   "metadata": {},
   "source": [
    "## Iets met splitten van data: van deze img if in original Legs: zet dan in nieuwe Leggs map, inlezen van namen gaat grappig"
   ]
  },
  {
   "cell_type": "code",
   "execution_count": null,
   "metadata": {},
   "outputs": [],
   "source": [
    "# Notlegs = 'cnn_data3/NotLegs'\n",
    "# img_path = os.path.join(Notlegs, '*g')\n",
    "# files = glob.glob(img_path)\n",
    "# Notleglist = []\n",
    "# for img in files:\n",
    "#     nom = img.split(\"_\")\n",
    "# #     print(nom)\n",
    "#     Nofimg =  str(nom[3][0])\n",
    "# #     print(Nofimg)\n",
    "#     Nofimg2 =  str(nom[3][1])\n",
    "# #     print(Nofimg,Nofimg2)\n",
    "#     if Nofimg2 is not 'i':\n",
    "#         print('wajoo')\n",
    "#         Nofimg = str(nom[3][0:2])\n",
    "#     newnom = (nom[2]) + Nofimg\n",
    "# #     print(newnom)\n",
    "#     Notleglist.append(newnom)\n",
    "# print(Notleglist)"
   ]
  },
  {
   "cell_type": "code",
   "execution_count": null,
   "metadata": {},
   "outputs": [],
   "source": [
    "# img_dir = 'cnn_data4'\n",
    "# img_path = os.path.join(img_dir, '*g')\n",
    "# files = glob.glob(img_path)\n",
    "# dirLeg = 'NotLeggs'\n",
    "# for img in files:\n",
    "# #     print(img)\n",
    "# #     print(img)\n",
    "#     nom = img.split(\"_\")\n",
    "#     Nofimg =  str(nom[3])\n",
    "# #     print(nom)\n",
    "# #     Nofimg2 =  str(nom[3][1])\n",
    "#     #     print(Nofimg,Nofimg2)\n",
    "\n",
    "# #     if Nofimg2 is not 'i':\n",
    "# #         print('wajoo')\n",
    "# #         Nofimg = str(nom[3][0:2])\n",
    "        \n",
    "#     newnom = str(nom[2]) + Nofimg\n",
    "#     if newnom in Notleglist:\n",
    "# #         im = cv2.imread(img)\n",
    "#         img_name = os.path.basename(img)\n",
    "#         shutil.copyfile(img, os.path.join(dirLeg, img_name))\n",
    "#     print(newnom)"
   ]
  }
 ],
 "metadata": {
  "kernelspec": {
   "display_name": "Python 3",
   "language": "python",
   "name": "python3"
  },
  "language_info": {
   "codemirror_mode": {
    "name": "ipython",
    "version": 3
   },
   "file_extension": ".py",
   "mimetype": "text/x-python",
   "name": "python",
   "nbconvert_exporter": "python",
   "pygments_lexer": "ipython3",
   "version": "3.6.3"
  }
 },
 "nbformat": 4,
 "nbformat_minor": 2
}
