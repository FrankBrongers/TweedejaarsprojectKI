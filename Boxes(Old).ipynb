{
 "cells": [
  {
   "cell_type": "code",
   "execution_count": 3,
   "metadata": {},
   "outputs": [],
   "source": [
    "import numpy as np\n",
    "import cv2\n",
    "import math\n",
    "from PIL import Image, ImageOps\n",
    "from matplotlib import pyplot as plt\n",
    "\n"
   ]
  },
  {
   "cell_type": "code",
   "execution_count": 4,
   "metadata": {},
   "outputs": [
    {
     "data": {
      "text/plain": [
       "<matplotlib.image.AxesImage at 0x7f5f1317feb8>"
      ]
     },
     "execution_count": 4,
     "metadata": {},
     "output_type": "execute_result"
    },
    {
     "data": {
      "image/png": "[encoded data removed]",
      "text/plain": [
       "<matplotlib.figure.Figure at 0x7f5f15437be0>"
      ]
     },
     "metadata": {},
     "output_type": "display_data"
    }
   ],
   "source": [
    "'''\n",
    "Load and Show for overview reasons only\n",
    "'''\n",
    "im = cv2.imread('test_color.png')\n",
    "plt.imshow(im)"
   ]
  },
  {
   "cell_type": "code",
   "execution_count": 5,
   "metadata": {},
   "outputs": [],
   "source": [
    "'''\n",
    "Returns the coords of contours within an image\n",
    "'''\n",
    "def get_contours(im):\n",
    "\n",
    "    imgray = cv2.cvtColor(im,cv2.COLOR_BGR2GRAY)\n",
    "    ret,thresh = cv2.threshold(imgray,127,255,0)\n",
    "    contours, _ = cv2.findContours(thresh,cv2.CHAIN_APPROX_SIMPLE,cv2.RETR_LIST)\n",
    "\n",
    "    return contours"
   ]
  },
  {
   "cell_type": "code",
   "execution_count": 6,
   "metadata": {},
   "outputs": [],
   "source": [
    "'''\n",
    "Makes rectangles out of points of interest found by get_contours()\n",
    "'''\n",
    "def get_boxes(contours):\n",
    "    my_boxes = []\n",
    "\n",
    "\n",
    "    for cnt in contours:\n",
    "        x,y,w,h = cv2.boundingRect(cnt)\n",
    "\n",
    "        coords = [x,y,w,h]\n",
    "\n",
    "        my_boxes.append(coords)\n",
    "    \n",
    "    return my_boxes"
   ]
  },
  {
   "cell_type": "code",
   "execution_count": 7,
   "metadata": {},
   "outputs": [],
   "source": [
    "'''\n",
    "Makes found boxes by get_boxes() square\n",
    "'''\n",
    "def make_square(boxes):\n",
    "    \n",
    "    squares = []\n",
    "    \n",
    "     \n",
    "    \n",
    "    for box in boxes:\n",
    "        x,y,w,h = box\n",
    "        if h > w:\n",
    "            diff = h-w\n",
    "            x = math.floor(x - (diff/2))\n",
    "            w = math.ceil(w + diff)\n",
    "    \n",
    "        if w > h:\n",
    "            y = math.floor(y - (diff/2))\n",
    "            h = math.ceil(h + diff)\n",
    "            \n",
    "        squares.append([x,y,w,h])\n",
    "    return squares"
   ]
  },
  {
   "cell_type": "code",
   "execution_count": 8,
   "metadata": {},
   "outputs": [],
   "source": [
    "'''\n",
    "!!! Test only function !!!\n",
    "Shows the found squares by drawing them on the image\n",
    "'''\n",
    "\n",
    "def draw_squares(im,squares):\n",
    "    for square in squares:\n",
    "        x,y,w,h = square\n",
    "        im2 = cv2.rectangle(im,(x,y),(x+w,y+h),(0,255,0),2)\n",
    "        plt.imshow(im2)\n",
    "    plt.show()"
   ]
  },
  {
   "cell_type": "code",
   "execution_count": 9,
   "metadata": {},
   "outputs": [],
   "source": [
    "'''\n",
    "Combines functions above:\n",
    "Input is an Image, returns squares around blobs\n",
    "'''\n",
    "def get_bounding_boxes(im):\n",
    "    contours = get_contours(im)\n",
    "    boxes = get_boxes(contours)\n",
    "    squares = make_square(boxes)\n",
    "    \n",
    "    return squares"
   ]
  },
  {
   "cell_type": "code",
   "execution_count": 10,
   "metadata": {},
   "outputs": [],
   "source": [
    "'''\n",
    "Turns Squares around blobs into actual images\n",
    "'''\n",
    "def get_found_imgs(im,squares):\n",
    "    found_imgs = []\n",
    "    for square in squares:\n",
    "        new_im = im[square[1]:square[1]+square[3], square[0]:square[0]+square[2]]\n",
    "        img = Image.fromarray(new_im, 'RGB')\n",
    "        found_imgs.append(img)\n",
    "    return found_imgs"
   ]
  },
  {
   "cell_type": "code",
   "execution_count": 11,
   "metadata": {},
   "outputs": [],
   "source": [
    "'''\n",
    "Scales all found images to one size\n",
    "''' \n",
    "def scale_imgs(imgs,size):\n",
    "    scaled_imgs = []\n",
    "    for im in imgs:\n",
    "        print(\"img\",im)\n",
    "        exit()\n",
    "        new_im = ImageOps.fit(im, size, Image.ANTIALIAS)\n",
    "        scaled_imgs.append(new_im)\n",
    "    return scaled_imgs"
   ]
  },
  {
   "cell_type": "code",
   "execution_count": 12,
   "metadata": {},
   "outputs": [],
   "source": [
    "'''\n",
    "MAIN FUNCTION!!!\n",
    "\n",
    "Combines everything above. Takes binary image, original image and set size\n",
    "Returns list of images found within original image.\n",
    "'''\n",
    "\n",
    "def get_roi_imgs(im_bin,im_ori,size):\n",
    "    squares = get_bounding_boxes(im_bin)\n",
    "    imgs_unscaled = get_found_imgs(im_ori,squares)\n",
    "    imgs = scale_imgs(imgs_unscaled,size)\n",
    "    \n",
    "    return imgs"
   ]
  },
  {
   "cell_type": "code",
   "execution_count": 13,
   "metadata": {},
   "outputs": [
    {
     "data": {
      "image/png": "[encoded data removed]",
      "text/plain": [
       "<matplotlib.figure.Figure at 0x7f5f1310c0b8>"
      ]
     },
     "metadata": {},
     "output_type": "display_data"
    }
   ],
   "source": [
    "'''\n",
    "Test Cell! \n",
    "Tests bounding boxes\n",
    "'''\n",
    "\n",
    "im = cv2.imread('test_black_white.png')\n",
    "im_original = cv2.imread('test_color.png')\n",
    "squares = get_bounding_boxes(im)\n",
    "\n",
    "draw_squares(im,squares)"
   ]
  },
  {
   "cell_type": "code",
   "execution_count": 14,
   "metadata": {},
   "outputs": [
    {
     "name": "stdout",
     "output_type": "stream",
     "text": [
      "img <PIL.Image.Image image mode=RGB size=43x43 at 0x7F5F1310CC18>\n",
      "img <PIL.Image.Image image mode=RGB size=63x63 at 0x7F5F1310CBA8>\n",
      "img <PIL.Image.Image image mode=RGB size=59x59 at 0x7F5F1310CE48>\n",
      "img <PIL.Image.Image image mode=RGB size=59x59 at 0x7F5F1310C710>\n",
      "img <PIL.Image.Image image mode=RGB size=68x68 at 0x7F5F1310CAC8>\n"
     ]
    }
   ],
   "source": [
    "'''\n",
    "Execution Cell!\n",
    "\n",
    "Load Black and White image to work with\n",
    "Load original image for actual image retrieval\n",
    "Set size for universal scaling.\n",
    "\n",
    "'''\n",
    "im = cv2.imread('test_black_white.png')\n",
    "im_original = cv2.imread('test_color.png')\n",
    "\n",
    "\n",
    "size = (60,60)\n",
    "imgs = get_roi_imgs(im,im_original,size)\n"
   ]
  },
  {
   "cell_type": "code",
   "execution_count": 1,
   "metadata": {},
   "outputs": [],
   "source": [
    "'''\n",
    "Saves found images to files in current directory.\n",
    "'''\n",
    "def imgs_to_files(imgs):\n",
    "    count = 0\n",
    "    for im in imgs:\n",
    "        name = \"canditate_\"+ str(count) + \".png\"\n",
    "        im.save(name)   \n",
    "        count += 1\n",
    "    return"
   ]
  },
  {
   "cell_type": "code",
   "execution_count": null,
   "metadata": {},
   "outputs": [],
   "source": [
    "imgs_to_files(imgs)"
   ]
  }
 ],
 "metadata": {
  "kernelspec": {
   "display_name": "Python 3",
   "language": "python",
   "name": "python3"
  },
  "language_info": {
   "codemirror_mode": {
    "name": "ipython",
    "version": 3
   },
   "file_extension": ".py",
   "mimetype": "text/x-python",
   "name": "python",
   "nbconvert_exporter": "python",
   "pygments_lexer": "ipython3",
   "version": "3.6.3"
  }
 },
 "nbformat": 4,
 "nbformat_minor": 2
}
