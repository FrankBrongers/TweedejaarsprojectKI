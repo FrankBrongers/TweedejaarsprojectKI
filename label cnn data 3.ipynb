{
 "cells": [
  {
   "cell_type": "code",
   "execution_count": null,
   "metadata": {},
   "outputs": [],
   "source": [
    "import cv2\n",
    "import numpy as np\n",
    "from matplotlib import pyplot as plt\n",
    "import random\n",
    "from collections import Counter\n",
    "from sklearn import linear_model, datasets\n",
    "from skimage.measure import LineModelND, ransac\n",
    "import math\n",
    "from __future__ import division \n",
    "\n",
    "import os\n",
    "import glob"
   ]
  },
  {
   "cell_type": "code",
   "execution_count": null,
   "metadata": {},
   "outputs": [],
   "source": [
    "def change_name(img_name):\n",
    "    img = cv2.imread(img_name)\n",
    "    img_name = os.path.basename(img_name)\n",
    "#     img_name = os.path.basename(img_name)\n",
    "#     maskedImg = getField2(img)\n",
    "#     maskedImg.dtype='uint8'\n",
    "# >>> str1 = \"mystring\"\n",
    "# >>> list1 = list(str1)\n",
    "# >>> list1[5] = 'u'\n",
    "# >>> str1 = ''.join(list1)\n",
    "    nom_list = list(img_name)\n",
    "    nom_list[-5] = '0'\n",
    "    img_name = ''.join(nom_list)\n",
    "    img.dtype='uint8'\n",
    "#     print(img_name)\n",
    "    cv2.imwrite(os.path.join('cnn_data3/NotLegs1', img_name), img)\n",
    "    \n",
    "    # Create new directory\n",
    "labeled_directory = 'cnn_data3/NotLegs1'\n",
    "if not os.path.isdir('./' + labeled_directory):\n",
    "    os.mkdir(labeled_directory)\n",
    "\n",
    "    # Specify directory where all images are saved\n",
    "img_dir = 'cnn_data3/NotLegs'\n",
    "img_path = os.path.join(img_dir, '*g')\n",
    "files = glob.glob(img_path)\n",
    "\n",
    "for img in files:\n",
    "    change_name(img)"
   ]
  },
  {
   "cell_type": "code",
   "execution_count": null,
   "metadata": {},
   "outputs": [],
   "source": []
  }
 ],
 "metadata": {
  "kernelspec": {
   "display_name": "Python 3",
   "language": "python",
   "name": "python3"
  },
  "language_info": {
   "codemirror_mode": {
    "name": "ipython",
    "version": 3
   },
   "file_extension": ".py",
   "mimetype": "text/x-python",
   "name": "python",
   "nbconvert_exporter": "python",
   "pygments_lexer": "ipython3",
   "version": "3.6.3"
  }
 },
 "nbformat": 4,
 "nbformat_minor": 2
}
