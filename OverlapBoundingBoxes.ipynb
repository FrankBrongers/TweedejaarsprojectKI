{
 "cells": [
  {
   "cell_type": "code",
   "execution_count": 2,
   "metadata": {},
   "outputs": [],
   "source": [
    "import cv2\n",
    "import numpy as np\n",
    "from matplotlib import pyplot as plt\n",
    "import random\n",
    "from collections import Counter\n",
    "from sklearn import linear_model, datasets\n",
    "from collections import namedtuple\n",
    "import matplotlib.patches as patches"
   ]
  },
  {
   "cell_type": "code",
   "execution_count": 3,
   "metadata": {},
   "outputs": [
    {
     "name": "stdout",
     "output_type": "stream",
     "text": [
      "0.25\n"
     ]
    }
   ],
   "source": [
    "\n",
    "Rectangle = namedtuple('Rectangle', 'xmin ymin xmax ymax')\n",
    "\n",
    "# ra = Rectangle(3., 3., 5., 5.)\n",
    "# rb = Rectangle(1., 1., 4., 3.5)\n",
    "ra = [3.,3.,5.,5.]\n",
    "rb = [2.,2.,3.5,3.5]\n",
    "# intersection here is (3, 3, 4, 3.5), or an area of 1*.5=.5\n",
    "\n",
    "def area(a, b):  # returns None if rectangles don't intersect\n",
    "    \n",
    "    dx = min(a[2], b[2]) - max(a[0], b[0])  #'xmin ymin xmax ymax'\n",
    "    dy = min(a[3], b[3]) - max(a[1], b[1]) \n",
    "#     dx = min(a.xmax, b.xmax) - max(a.xmin, b.xmin)\n",
    "#     dy = min(a.ymax, b.ymax) - max(a.ymin, b.ymin)\n",
    "    if (dx>=0) and (dy>=0):\n",
    "        return dx*dy\n",
    "\n",
    "    \n",
    "# fig = plt.figure()\n",
    "# # plt.plot(ra,rb)\n",
    "# p1 = patches.Rectangle((3,3), 2,2)\n",
    "# p2 = patches.Rectangle((1,1),3,2.5)\n",
    "# fig.add_patch(p1)\n",
    "# fig.add_patch(p2)\n",
    "# plt.show()\n",
    "print(area(ra, rb))"
   ]
  },
  {
   "cell_type": "code",
   "execution_count": 27,
   "metadata": {},
   "outputs": [
    {
     "name": "stdout",
     "output_type": "stream",
     "text": [
      "0.25\n",
      "[1, 1.0, 4, 3.5]\n",
      "[3, 3, 5, 5]\n",
      "hi\n",
      "0.5 4 0.125\n",
      "False\n"
     ]
    },
    {
     "data": {
      "image/png": "[encoded data removed]",
      "text/plain": [
       "<matplotlib.figure.Figure at 0x7f4150f72128>"
      ]
     },
     "metadata": {},
     "output_type": "display_data"
    }
   ],
   "source": [
    "\n",
    "\n",
    "ra = [3.,3.,5.,5.]\n",
    "rb = [2.,2.,3.5,3.5]\n",
    "\n",
    "L1 = [1,3.5,3,2.5]\n",
    "L2 = [3,5,2,2]\n",
    "\n",
    "def overlapDivA2(List1, List2):  # returns None if rectangles don't intersect\n",
    "    thresh = 0.5\n",
    "    [x1, y1, w1, h1] = List1  #van robot\n",
    "    [x2,y2,w2,h2] = List2 #van Blob\n",
    "    a = [x1 , y1- h1, x1+w1, y1] # area robot\n",
    "    b = [x2 , y2- h2, x2+w2, y2] # area blob\n",
    "    dx = min(a[2], b[2]) - max(a[0], b[0])  #'xmin ymin xmax ymax'\n",
    "    dy = min(a[3], b[3]) - max(a[1], b[1]) \n",
    "    print(a)\n",
    "    print(b)\n",
    "    print(\"hi\")\n",
    "    \n",
    "    if (dx>=0) and (dy>=0):\n",
    "        opvblob = w2*h2\n",
    "        intsecDivOpv = dx*dy/opvblob\n",
    "        print(dx*dy,opvblob,intsecDivOpv)\n",
    "        if intsecDivOpv > thresh:\n",
    "            return True\n",
    "    return False\n",
    "\n",
    "\n",
    "[x1, y1, w1, h1] = L1  #van robot\n",
    "[x2,y2,w2,h2] = L2 #van Blob\n",
    "# a = [x1 , y1- h1, x1+w1, y1] # area robot\n",
    "# b = [x2 , y2- h2, x2+w2, y2]\n",
    "plt.scatter([x1,x1+w1], [y1-h1, y1])\n",
    "plt.scatter([x2,x2+w2], [y2-h2, y2])\n",
    "print(area(ra, rb))\n",
    "print(overlapDivA2(L1,L2))"
   ]
  }
 ],
 "metadata": {
  "kernelspec": {
   "display_name": "Python 3",
   "language": "python",
   "name": "python3"
  },
  "language_info": {
   "codemirror_mode": {
    "name": "ipython",
    "version": 3
   },
   "file_extension": ".py",
   "mimetype": "text/x-python",
   "name": "python",
   "nbconvert_exporter": "python",
   "pygments_lexer": "ipython3",
   "version": "3.6.3"
  }
 },
 "nbformat": 4,
 "nbformat_minor": 2
}
