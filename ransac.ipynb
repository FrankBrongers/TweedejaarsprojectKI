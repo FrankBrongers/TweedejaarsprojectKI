{
 "cells": [
  {
   "cell_type": "code",
   "execution_count": 1,
   "metadata": {},
   "outputs": [],
   "source": [
    "import cv2\n",
    "import numpy as np\n",
    "from scipy import stats\n",
    "import matplotlib.pyplot as plt\n",
    "%matplotlib inline"
   ]
  },
  {
   "cell_type": "markdown",
   "metadata": {},
   "source": [
    "# hi\n",
    "Lijnen volgen nu (nog) de formule y = ax+b<br>\n",
    "Voor het fitten van de lijn wordt nu (nog) least squares gebruikt<br>\n",
    "Voor het evaluaren van de lijn wordt nu (nog) de Euclidean distance (of uhh eigenlijk de 'Euclidean distance' in de y-richting) gebruikt.<br>\n",
    "Vond voorgeschreven code van internet vaag/onleesbaar, dus ik heb gewoon de Wikipediapagina van RANSAC gebruikt als richtlijn voor deze prachtig zelfgeschreven code, die jullie uiteraard ook superleesbaar vinden. Had het liefst natuurlijk gewoon mijn door Wouter (dis)approved Matlabcode neergezet.<br>\n",
    "\n",
    "Will fix stuff later"
   ]
  },
  {
   "cell_type": "code",
   "execution_count": 2,
   "metadata": {},
   "outputs": [],
   "source": [
    "np.random.seed(12345678)\n",
    "x = np.random.random(10)\n",
    "y = 1.6*x + np.random.random(10)\n",
    "# A random 2 x N array with (x,y)-coordinates\n",
    "# data[0] = x-axis data (independent variable, HORIZONTAL)\n",
    "data = np.array([x, y])"
   ]
  },
  {
   "cell_type": "code",
   "execution_count": 3,
   "metadata": {},
   "outputs": [
    {
     "name": "stdout",
     "output_type": "stream",
     "text": [
      "Best model parameters: (1.9448642607472155, 0.26857823524544855)\n"
     ]
    },
    {
     "data": {
      "text/plain": [
       "[<matplotlib.lines.Line2D at 0x7f9c14be44e0>]"
      ]
     },
     "execution_count": 3,
     "metadata": {},
     "output_type": "execute_result"
    },
    {
     "data": {
      "image/png": "[encoded data removed]",
      "text/plain": [
       "<matplotlib.figure.Figure at 0x7f9c2ffde518>"
      ]
     },
     "metadata": {
      "needs_background": "light"
     },
     "output_type": "display_data"
    }
   ],
   "source": [
    "def ransac(data, max_iters=10, n_samples=5, thres=20, inlier_thres=40):\n",
    "    # Number of data points in the set\n",
    "    size = data.shape[1]\n",
    "    \n",
    "    best_fit = None\n",
    "    smallest_error = np.inf\n",
    "    \n",
    "    for iteration in range(max_iters):\n",
    "        # Drawing a random sample\n",
    "        random_idx = np.random.randint(size, size=n_samples)\n",
    "        random_sample = data[0:,random_idx]\n",
    "        \n",
    "        # Calculate a linear least-squares regression line\n",
    "        slope, intercept, _, _, std_err = stats.linregress(random_sample[0], random_sample[1])\n",
    "\n",
    "        # Calculate distance to line for each point\n",
    "        line_y = slope * data[0] + intercept\n",
    "        distances = line_y - data[1]\n",
    "        distances = np.sqrt(distances**2)\n",
    "        \n",
    "        # Count number of inliers\n",
    "        inliers_idx = np.where(distances <= thres)[0]\n",
    "        n_inliers = len(inliers_idx)\n",
    "        # Only consider the model (parameters) if we have enough inliers\n",
    "        if n_inliers >= inlier_thres:\n",
    "            random_sample = data[0:,inliers_idx]\n",
    "            slope, intercept, r_value, p_value, std_err = stats.linregress(random_sample[0], random_sample[1])\n",
    "            if best_fit is None or std_err < smallest_error:\n",
    "                best_fit = (slope, intercept)\n",
    "            \n",
    "    return best_fit\n",
    "    \n",
    "# Apply RANSAC to the generated data\n",
    "# Adjust the inlier threshold according to the size of the dataset\n",
    "# Will probably turn the parameter itself into a ratio instead of a fixed number\n",
    "result = ransac(data, inlier_thres=0.6*data.shape[1])\n",
    "print(\"Best model parameters:\", result)\n",
    "\n",
    "if result is not None:\n",
    "    a, b = result\n",
    "    plt.plot(data[0], a*data[0]+b, 'r')\n",
    "plt.plot(data[0], data[1], 'o')\n"
   ]
  },
  {
   "cell_type": "code",
   "execution_count": 4,
   "metadata": {},
   "outputs": [],
   "source": [
    "# def fit_with_least_squares(X, y):\n",
    "#     \"\"\"\n",
    "#     Fits model for a given data using least squares.\n",
    "#     X should be an mxn matrix, where m is number of samples, and n is number of independent variables.\n",
    "#     y should be an mx1 vector of dependent variables.\n",
    "#     \"\"\"\n",
    "#     b = np.ones((X.shape[0], 1))\n",
    "#     A = np.hstack((X, b))\n",
    "#     theta = np.linalg.lstsq(A, y)[0]\n",
    "#     return theta\n",
    "\n",
    "# def evaluate_model(X, y, theta, inlier_threshold):\n",
    "#     \"\"\"\n",
    "#     Evaluates model and returns total number of inliers.\n",
    "#     X should be an mxn matrix, where m is number of samples, and n is number of independent variables.\n",
    "#     y should be an mx1 vector of dependent variables.\n",
    "#     theta should be an (n+1)x1 vector of model parameters.\n",
    "#     inlier_threshold should be a scalar.\n",
    "#     \"\"\"\n",
    "#     b = np.ones((X.shape[0], 1))\n",
    "#     y = y.reshape((y.shape[0], 1))\n",
    "#     A = np.hstack((y, X, b))\n",
    "#     theta = np.insert(theta, 0, -1.)\n",
    "    \n",
    "#     distances = np.abs(np.sum(A*theta, axis=1)) / np.sqrt(np.sum(np.power(theta[:-1], 2)))\n",
    "#     inliers = distances <= inlier_threshold\n",
    "#     num_inliers = np.count_nonzero(inliers == True)\n",
    "    \n",
    "#     return num_inliers"
   ]
  }
 ],
 "metadata": {
  "kernelspec": {
   "display_name": "Python 3",
   "language": "python",
   "name": "python3"
  },
  "language_info": {
   "codemirror_mode": {
    "name": "ipython",
    "version": 3
   },
   "file_extension": ".py",
   "mimetype": "text/x-python",
   "name": "python",
   "nbconvert_exporter": "python",
   "pygments_lexer": "ipython3",
   "version": "3.6.7"
  }
 },
 "nbformat": 4,
 "nbformat_minor": 2
}
