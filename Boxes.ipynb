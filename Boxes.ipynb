{
 "cells": [
  {
   "cell_type": "code",
   "execution_count": null,
   "metadata": {},
   "outputs": [],
   "source": [
    "import numpy as np\n",
    "import cv2\n",
    "import math\n",
    "from PIL import Image, ImageOps\n",
    "from matplotlib import pyplot as plt\n",
    "from skimage.feature import blob_dog, blob_log, blob_doh\n",
    "import os\n",
    "import glob"
   ]
  },
  {
   "cell_type": "code",
   "execution_count": null,
   "metadata": {},
   "outputs": [],
   "source": [
    "'''\n",
    "Makes found boxes by get_boxes() square\n",
    "'''\n",
    "def make_square(boxes):\n",
    "    squares = []\n",
    "    for box in boxes:\n",
    "        x,y,w,h = box\n",
    "        if h > w:\n",
    "            diff = h-w\n",
    "            x = math.floor(x - (diff/2))\n",
    "            w = math.ceil(w + diff)\n",
    "    \n",
    "        if w > h:\n",
    "            diff = w-h\n",
    "            y = math.floor(y - (diff/2))\n",
    "            h = math.ceil(h + diff)\n",
    "            \n",
    "        squares.append([x,y,w,h])\n",
    "    return squares"
   ]
  },
  {
   "cell_type": "code",
   "execution_count": null,
   "metadata": {},
   "outputs": [],
   "source": [
    "'''\n",
    "!!! Test only function !!!\n",
    "Shows the found squares by drawing them on the image\n",
    "'''\n",
    "\n",
    "def draw_squares(im,squares):\n",
    "    for square in squares:\n",
    "        x,y,w,h = square\n",
    "        im2 = cv2.rectangle(im,(x,y),(x+w,y+h),(0,255,0),2)\n",
    "        plt.imshow(im2)\n",
    "    plt.show()"
   ]
  },
  {
   "cell_type": "code",
   "execution_count": null,
   "metadata": {},
   "outputs": [],
   "source": [
    "######################################################################"
   ]
  },
  {
   "cell_type": "code",
   "execution_count": null,
   "metadata": {},
   "outputs": [],
   "source": [
    "'''\n",
    "Turns Squares around rois into actual images\n",
    "'''\n",
    "def get_found_imgs(im,squares):\n",
    "    found_imgs = []\n",
    "    for square in squares:\n",
    "        print(\"square:\",square)\n",
    "\n",
    "        new_im = im[square[1]:square[1]+square[3], square[0]:square[0]+square[2]]\n",
    "        img = Image.fromarray(new_im, 'RGB')\n",
    "        found_imgs.append(img)\n",
    "    return found_imgs"
   ]
  },
  {
   "cell_type": "code",
   "execution_count": null,
   "metadata": {},
   "outputs": [],
   "source": [
    "'''\n",
    "Scales all found images to one size\n",
    "if size == 0: No scaling\n",
    "\n",
    "''' \n",
    "def scale_imgs(imgs,size):\n",
    "    scaled_imgs = []\n",
    "    for im in imgs:\n",
    "        if size == 0:\n",
    "            new_im = im\n",
    "        else:\n",
    "            new_im = ImageOps.fit(im, size, Image.ANTIALIAS)\n",
    "        scaled_imgs.append(new_im)\n",
    "    return scaled_imgs"
   ]
  },
  {
   "cell_type": "code",
   "execution_count": null,
   "metadata": {},
   "outputs": [],
   "source": [
    "cor = [30,40,30]\n"
   ]
  },
  {
   "cell_type": "code",
   "execution_count": null,
   "metadata": {},
   "outputs": [],
   "source": [
    "'''\n",
    "Saves found images to files in current directory.\n",
    "'''\n",
    "def imgs_to_files(imgs,nom, cors, labels=None ):\n",
    "    count = 0\n",
    "    labeled_directory = \"cnn_data4\"\n",
    "    if not os.path.isdir('./' + labeled_directory):\n",
    "        os.mkdir(labeled_directory)\n",
    "    for idx, im in enumerate(imgs):\n",
    "        cor = '_'.join([str(e) for e in cors[idx]])\n",
    "        name = labeled_directory + \"/canditate_\"+nom+ \"_\"+ str(count) + \"_cors_\"+ cor + \"_isRobot_\" + str(labels[count]) + \".png\"\n",
    "        print(name)\n",
    "        im.save(name)   \n",
    "        count += 1\n",
    "    \n",
    "    return"
   ]
  },
  {
   "cell_type": "code",
   "execution_count": null,
   "metadata": {},
   "outputs": [],
   "source": [
    "###############################################################################"
   ]
  },
  {
   "cell_type": "code",
   "execution_count": null,
   "metadata": {},
   "outputs": [],
   "source": [
    "'''\n",
    "In case of blobs:\n",
    "y,x,sigma\n",
    "All of the below!\n",
    "'''"
   ]
  },
  {
   "cell_type": "code",
   "execution_count": null,
   "metadata": {},
   "outputs": [],
   "source": [
    "def make_blob_square(blobs):\n",
    "    squares = []\n",
    "\n",
    "    for blob in blobs:\n",
    "        \n",
    "        y_cen, x_cen, rad = blob\n",
    "        \n",
    "        x = x_cen - math.floor(rad)\n",
    "        y = y_cen - math.floor(rad)\n",
    "        \n",
    "        w = rad*2\n",
    "        h = rad*2\n",
    "        \n",
    "        xsiz= 479 - w\n",
    "        ysiz = 639 - h\n",
    "        \n",
    "        if x < 0:\n",
    "            x = 0\n",
    "        elif x > xsiz:\n",
    "            x = xsiz\n",
    "        if y < 0:\n",
    "            y = 0\n",
    "        elif y > ysiz:\n",
    "            y = ysiz\n",
    "        square = [int(x),int(y),int(w),int(h)]\n",
    "        squares.append(square)\n",
    "    return squares"
   ]
  },
  {
   "cell_type": "code",
   "execution_count": null,
   "metadata": {},
   "outputs": [],
   "source": [
    "def get_roi_imgs_blobs(blobs,im_ori):\n",
    "    squares = make_blob_square(blobs)\n",
    "    imgs = get_found_imgs(im_ori,squares)\n",
    "    \n",
    "    return imgs, squares"
   ]
  },
  {
   "cell_type": "code",
   "execution_count": null,
   "metadata": {},
   "outputs": [],
   "source": [
    "##########################################################################################"
   ]
  },
  {
   "cell_type": "code",
   "execution_count": null,
   "metadata": {},
   "outputs": [],
   "source": [
    "'''Labeling'''\n",
    "def make_label_file(labels):\n",
    "    labels = labels.readlines()\n",
    "    labels = labels[6:]\n",
    "    current_im = ''\n",
    "    current_borders = []\n",
    "    borders = []\n",
    "    for label in labels:\n",
    "        cells = label.split('|')\n",
    "#         print(cells)\n",
    "        these_borders = get_coords_from_label(cells)\n",
    "        \n",
    "        if cells[1] != current_im:\n",
    "            current_im = cells[1]\n",
    "            borders.append(current_borders)\n",
    "            current_borders = [current_im]\n",
    "        \n",
    "        current_borders.append(these_borders)\n",
    "    \n",
    "    return borders[1:]"
   ]
  },
  {
   "cell_type": "code",
   "execution_count": null,
   "metadata": {
    "scrolled": true
   },
   "outputs": [],
   "source": [
    "l = open('labels.txt')\n",
    "my_labels = make_label_file(l)\n",
    "my_labels"
   ]
  },
  {
   "cell_type": "code",
   "execution_count": null,
   "metadata": {},
   "outputs": [],
   "source": [
    "def get_coords_from_label(cells):\n",
    "    if cells[2] == 'not_in_image\\n':\n",
    "        return [0,0,0,0]\n",
    "    else:\n",
    "        cent_x = float(cells[8])\n",
    "        cent_y = float(cells[9])\n",
    "        w = int(cells[10])\n",
    "        h = int(cells[11])\n",
    "\n",
    "        x = cent_x - math.floor(w/2)\n",
    "        y = cent_y - math.floor(h/2)\n",
    "\n",
    "        square = [int(x),int(y),int(w),int(h)]\n",
    "    \n",
    "    return square"
   ]
  },
  {
   "cell_type": "code",
   "execution_count": null,
   "metadata": {},
   "outputs": [],
   "source": [
    "def check_overlap(List1, List2):  # returns None if rectangles don't intersect\n",
    "#     print(List1,List2)\n",
    "    thresh = 0.5\n",
    "    [x1, y1, w1, h1] = List1  #van robot\n",
    "    [x2,y2,w2,h2] = List2 #van Blob\n",
    "    a = [x1 , y1+ h1, x1+w1, y1] # area robot\n",
    "    b = [x2 , y2+ h2, x2+w2, y2] # area blob\n",
    "    dx = min(a[2], b[2]) - max(a[0], b[0])  #'xmin ymin xmax ymax'\n",
    "    dy =  min(a[1], b[1]) - max(a[3], b[3])\n",
    "\n",
    "    \n",
    "    if (dx>=0) and (dy>=0):\n",
    "        opvblob = w2*h2\n",
    "        intsecDivOpv = dx*dy/opvblob\n",
    "#         print(\"intersection:\", dx*dy,\"/oppervlakte\",opvblob,\"IOU\",intsecDivOpv)\n",
    "        if intsecDivOpv > thresh:\n",
    "#             print(\"good candid\")\n",
    "            return True\n",
    "#     print(\"bad candid\")\n",
    "    else:\n",
    "        print(\"geen intersect\")\n",
    "    return False\n"
   ]
  },
  {
   "cell_type": "code",
   "execution_count": null,
   "metadata": {},
   "outputs": [],
   "source": [
    "def check_squares(squares,labels):\n",
    "    # squares: found by blob detection\n",
    "    # labels: of the robots\n",
    "    bool_list = []\n",
    "    for square in squares:\n",
    "        is_in_robot = 0\n",
    "        for label in labels:\n",
    "#             print(square,label)\n",
    "            if check_overlap(label, square):\n",
    "                is_in_robot = 1\n",
    "        bool_list.append(is_in_robot)\n",
    "            \n",
    "    return bool_list\n",
    "        "
   ]
  },
  {
   "cell_type": "code",
   "execution_count": null,
   "metadata": {},
   "outputs": [],
   "source": [
    "def get_labeled_imgs(labels,size):\n",
    "    for label in labels:\n",
    "        img_name = label[0]\n",
    "#         print(img_name)\n",
    "        im = cv2.imread(\"imageset_131/\" + img_name)\n",
    "        bin_dir = 'bin_image2/'\n",
    "        \n",
    "        \n",
    "        bin_img_name = bin_dir + img_name\n",
    "        print(\"imgname:\",img_name[-13:-10])\n",
    "        bin_img = cv2.imread(bin_img_name,0)\n",
    "        \n",
    "        blobs = blob_doh(bin_img, max_sigma=50, min_sigma=30, threshold=.01, num_sigma=10)\n",
    "#         print(\"blobs:\",blobs)\n",
    "        ''' dit is een lijst met blobs'''\n",
    "        \n",
    "        found_imgs, squares = get_roi_imgs_blobs(blobs,im)\n",
    "#         print(\"squaresMain\",squares)\n",
    "        #Returns list of booleans for found regions\n",
    "        in_robots = check_squares(squares, label[1:])\n",
    "        \n",
    "        imgs = scale_imgs(found_imgs, size)\n",
    "        imgs_to_files(imgs,img_name[-13:-10],squares,in_robots)\n",
    "            \n",
    "    return"
   ]
  },
  {
   "cell_type": "code",
   "execution_count": null,
   "metadata": {
    "scrolled": true
   },
   "outputs": [],
   "source": [
    "get_labeled_imgs(my_labels,tuple((60,60)))"
   ]
  },
  {
   "cell_type": "code",
   "execution_count": null,
   "metadata": {},
   "outputs": [],
   "source": [
    "leon = \"16_02_2018__11_18_08_0019_upper.png\"\n",
    "print(leon[-3:])"
   ]
  },
  {
   "cell_type": "markdown",
   "metadata": {},
   "source": [
    "### stappenplan\n",
    "\n",
    "Remove eerste paar lines van labels.txt\n",
    "\n",
    "dan run labeldingie make_label_file\n",
    "\n",
    "zorgt dat deze ipynb in map met imagaes staat (en labels.txt ook)\n",
    "\n",
    "run die shit!\n",
    "\n",
    "\n",
    "size = ? tuple van pixels\n",
    "dus bijv (60,60)\n",
    "\n",
    "get_labeled_imgs(labels,size)"
   ]
  },
  {
   "cell_type": "code",
   "execution_count": null,
   "metadata": {},
   "outputs": [],
   "source": []
  }
 ],
 "metadata": {
  "kernelspec": {
   "display_name": "Python 3",
   "language": "python",
   "name": "python3"
  },
  "language_info": {
   "codemirror_mode": {
    "name": "ipython",
    "version": 3
   },
   "file_extension": ".py",
   "mimetype": "text/x-python",
   "name": "python",
   "nbconvert_exporter": "python",
   "pygments_lexer": "ipython3",
   "version": "3.6.7"
  }
 },
 "nbformat": 4,
 "nbformat_minor": 2
}
