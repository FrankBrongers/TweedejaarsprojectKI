{
 "cells": [
  {
   "cell_type": "code",
   "execution_count": 1,
   "metadata": {},
   "outputs": [
    {
     "name": "stdout",
     "output_type": "stream",
     "text": [
      "Dit zijn je blobs (y, x, sigma):\n",
      " [[284. 125.  20.]\n",
      " [236. 241.  30.]\n",
      " [119. 108.  30.]\n",
      " [ 38. 193.  30.]]\n",
      "Eentje wordt niet gevonden? Misschien na binarizen\n"
     ]
    }
   ],
   "source": [
    "import cv2\n",
    "import numpy as np\n",
    "import matplotlib.pyplot as plt\n",
    "from skimage.feature import blob_dog, blob_log, blob_doh\n",
    "\n",
    "img = cv2.imread('stupidline.jpg', cv2.IMREAD_GRAYSCALE)\n",
    "blobs_doh = blob_doh(img, max_sigma=30, min_sigma=20, threshold=.01, num_sigma=10)\n",
    "print(\"Dit zijn je blobs (y, x, sigma):\\n\", blobs_doh)\n",
    "print(\"Eentje wordt niet gevonden? Misschien na binarizen\")\n",
    "# Parameters tweaken"
   ]
  },
  {
   "cell_type": "code",
   "execution_count": null,
   "metadata": {},
   "outputs": [],
   "source": []
  }
 ],
 "metadata": {
  "kernelspec": {
   "display_name": "Python 3",
   "language": "python",
   "name": "python3"
  },
  "language_info": {
   "codemirror_mode": {
    "name": "ipython",
    "version": 3
   },
   "file_extension": ".py",
   "mimetype": "text/x-python",
   "name": "python",
   "nbconvert_exporter": "python",
   "pygments_lexer": "ipython3",
   "version": "3.6.7"
  }
 },
 "nbformat": 4,
 "nbformat_minor": 2
}
