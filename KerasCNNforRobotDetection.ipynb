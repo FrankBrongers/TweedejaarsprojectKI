{
 "cells": [
  {
   "cell_type": "code",
   "execution_count": 1,
   "metadata": {},
   "outputs": [
    {
     "name": "stderr",
     "output_type": "stream",
     "text": [
      "Using TensorFlow backend.\n"
     ]
    }
   ],
   "source": [
    "import keras\n",
    "from keras.models import Sequential\n",
    "from keras.layers import Dense, Dropout, Flatten\n",
    "from keras.layers import Conv2D, MaxPooling2D\n",
    "import numpy as np\n",
    "import os\n",
    "import cv2\n",
    "import glob"
   ]
  },
  {
   "cell_type": "code",
   "execution_count": 24,
   "metadata": {},
   "outputs": [],
   "source": [
    "train_dir = 'cnn_data_train'\n",
    "train_path = os.path.join(train_dir, '*g')\n",
    "\n",
    "train_imgs = glob.glob(train_path)\n",
    "train_labels = [int(name[-5]) for name in train_imgs]\n",
    "train_imgs = np.array([np.array(cv2.imread(img)) for img in train_imgs])"
   ]
  },
  {
   "cell_type": "code",
   "execution_count": 25,
   "metadata": {},
   "outputs": [],
   "source": [
    "val_dir = 'cnn_data_val'\n",
    "val_path = os.path.join(val_dir, '*g')\n",
    "\n",
    "val_imgs = glob.glob(val_path)\n",
    "val_labels = [int(name[-5]) for name in val_imgs]\n",
    "val_imgs = np.array([np.array(cv2.imread(img)) for img in val_imgs])"
   ]
  },
  {
   "cell_type": "code",
   "execution_count": 26,
   "metadata": {},
   "outputs": [],
   "source": [
    "test_dir = 'cnn_data_test'\n",
    "test_path = os.path.join(val_dir, '*g')\n",
    "\n",
    "test_imgs = glob.glob(test_path)\n",
    "test_labels = np.array([int(name[-5]) for name in test_imgs])\n",
    "test_imgs = np.array([np.array(cv2.imread(img)) for img in test_imgs])"
   ]
  },
  {
   "cell_type": "markdown",
   "metadata": {},
   "source": [
    "For image loading and preprocessing see:\n",
    "https://keras.io/preprocessing/image/"
   ]
  },
  {
   "cell_type": "code",
   "execution_count": 27,
   "metadata": {},
   "outputs": [
    {
     "name": "stdout",
     "output_type": "stream",
     "text": [
      "train_imgs shape: (1011, 60, 60, 3)\n",
      "1011 train samples\n",
      "217 test samples\n"
     ]
    }
   ],
   "source": [
    "batch_size = 128\n",
    "num_classes = 2\n",
    "epochs = 10\n",
    "\n",
    "# input image dimensions\n",
    "img_rows, img_cols = 60, 60\n",
    "\n",
    "print('train_imgs shape:', train_imgs.shape)\n",
    "print(train_imgs.shape[0], 'train samples')\n",
    "print(test_imgs.shape[0], 'test samples')\n",
    "\n",
    "# convert class vectors to binary class matrices\n",
    "train_label = keras.utils.to_categorical(train_labels, num_classes)\n",
    "val_label = keras.utils.to_categorical(val_labels, num_classes)\n",
    "test_label = keras.utils.to_categorical(test_labels, num_classes)"
   ]
  },
  {
   "cell_type": "markdown",
   "metadata": {},
   "source": [
    "The model used by us:"
   ]
  },
  {
   "cell_type": "code",
   "execution_count": 28,
   "metadata": {},
   "outputs": [],
   "source": [
    "model = Sequential()\n",
    "model.add(Conv2D(32, kernel_size=(3, 3),\n",
    "                 activation='relu',\n",
    "                 input_shape=(img_rows,img_cols,3)))\n",
    "model.add(Conv2D(64, (3, 3), activation='relu'))\n",
    "model.add(MaxPooling2D(pool_size=(2, 2)))\n",
    "model.add(Dropout(0.25))\n",
    "model.add(Flatten())\n",
    "model.add(Dense(128, activation='relu'))\n",
    "model.add(Dropout(0.5))\n",
    "model.add(Dense(num_classes, activation='softmax'))"
   ]
  },
  {
   "cell_type": "code",
   "execution_count": 30,
   "metadata": {},
   "outputs": [
    {
     "name": "stdout",
     "output_type": "stream",
     "text": [
      "Train on 808 samples, validate on 203 samples\n",
      "Epoch 1/10\n",
      "808/808 [==============================] - 4s 5ms/step - loss: 0.1000 - acc: 0.9777 - val_loss: 1.1399 - val_acc: 0.7488\n",
      "Epoch 2/10\n",
      "808/808 [==============================] - 3s 4ms/step - loss: 0.0276 - acc: 0.9988 - val_loss: 1.2826 - val_acc: 0.7586\n",
      "Epoch 3/10\n",
      "808/808 [==============================] - 3s 4ms/step - loss: 0.0220 - acc: 1.0000 - val_loss: 1.4570 - val_acc: 0.7537\n",
      "Epoch 4/10\n",
      "808/808 [==============================] - 3s 4ms/step - loss: 0.0213 - acc: 0.9988 - val_loss: 1.4172 - val_acc: 0.7586\n",
      "Epoch 5/10\n",
      "808/808 [==============================] - 3s 4ms/step - loss: 0.0189 - acc: 0.9988 - val_loss: 1.5409 - val_acc: 0.7586\n",
      "Epoch 6/10\n",
      "808/808 [==============================] - 3s 4ms/step - loss: 0.0161 - acc: 0.9988 - val_loss: 1.5309 - val_acc: 0.7685\n",
      "Epoch 7/10\n",
      "808/808 [==============================] - 3s 4ms/step - loss: 0.0301 - acc: 0.9913 - val_loss: 1.6427 - val_acc: 0.7488\n",
      "Epoch 8/10\n",
      "808/808 [==============================] - 3s 4ms/step - loss: 0.0255 - acc: 0.9950 - val_loss: 1.3975 - val_acc: 0.7537\n",
      "Epoch 9/10\n",
      "808/808 [==============================] - 3s 4ms/step - loss: 0.0223 - acc: 0.9938 - val_loss: 1.4089 - val_acc: 0.7685\n",
      "Epoch 10/10\n",
      "808/808 [==============================] - 3s 4ms/step - loss: 0.0141 - acc: 0.9975 - val_loss: 1.4879 - val_acc: 0.7635\n",
      "Test loss: 1.966068127188265\n",
      "Test accuracy: 0.7096774226509481\n"
     ]
    }
   ],
   "source": [
    "model2.compile(loss=keras.losses.categorical_crossentropy,\n",
    "              optimizer=keras.optimizers.Adadelta(),\n",
    "              metrics=['accuracy'])\n",
    "\n",
    "model2.fit(train_imgs, train_label,\n",
    "          batch_size=batch_size,\n",
    "          epochs=epochs,\n",
    "          verbose=1,\n",
    "          validation_split=.2)\n",
    "score = model2.evaluate(test_imgs, test_label, verbose=0)\n",
    "print('Test loss:', score[0])\n",
    "print('Test accuracy:', score[1])"
   ]
  },
  {
   "cell_type": "markdown",
   "metadata": {},
   "source": [
    "The model used by DNT:"
   ]
  },
  {
   "cell_type": "code",
   "execution_count": 21,
   "metadata": {},
   "outputs": [],
   "source": [
    "model2 = Sequential()\n",
    "model2.add(Conv2D(4, kernel_size=(5, 5),\n",
    "                 activation='relu',\n",
    "                 input_shape=(img_rows,img_cols,3)))\n",
    "model2.add(Conv2D(5, (3, 3), activation='relu'))\n",
    "model2.add(Dropout(0.3))\n",
    "model2.add(Flatten())\n",
    "model2.add(Dense(16, activation='relu', input_shape=(24*24*5,)))\n",
    "model2.add(Dense(num_classes, activation='softmax'))"
   ]
  },
  {
   "cell_type": "markdown",
   "metadata": {},
   "source": [
    "The model used by B-Human"
   ]
  },
  {
   "cell_type": "code",
   "execution_count": null,
   "metadata": {},
   "outputs": [],
   "source": [
    "# B-Human CNN komt hier"
   ]
  },
  {
   "cell_type": "code",
   "execution_count": null,
   "metadata": {},
   "outputs": [],
   "source": []
  }
 ],
 "metadata": {
  "kernelspec": {
   "display_name": "Python 3",
   "language": "python",
   "name": "python3"
  },
  "language_info": {
   "codemirror_mode": {
    "name": "ipython",
    "version": 3
   },
   "file_extension": ".py",
   "mimetype": "text/x-python",
   "name": "python",
   "nbconvert_exporter": "python",
   "pygments_lexer": "ipython3",
   "version": "3.6.3"
  }
 },
 "nbformat": 4,
 "nbformat_minor": 2
}
