{
 "cells": [
  {
   "cell_type": "code",
   "execution_count": 1,
   "metadata": {},
   "outputs": [
    {
     "name": "stderr",
     "output_type": "stream",
     "text": [
      "Using TensorFlow backend.\n"
     ]
    }
   ],
   "source": [
    "import keras\n",
    "from keras.models import Sequential\n",
    "from keras.layers import Dense, Dropout, Flatten\n",
    "from keras.layers import Conv2D, MaxPooling2D, MaxPooling3D\n",
    "import numpy as np\n",
    "import os\n",
    "import cv2\n",
    "import glob"
   ]
  },
  {
   "cell_type": "code",
   "execution_count": 2,
   "metadata": {},
   "outputs": [],
   "source": [
    "train_dir = 'cnn_data_train'\n",
    "train_path = os.path.join(train_dir, '*g')\n",
    "\n",
    "train_imgsNom = glob.glob(train_path)\n",
    "train_labels = [int(name[-5]) for name in train_imgsNom]\n",
    "train_imgs = np.array([np.array(cv2.imread(img)) for img in train_imgsNom])"
   ]
  },
  {
   "cell_type": "code",
   "execution_count": 3,
   "metadata": {},
   "outputs": [],
   "source": [
    "# val_dir = 'cnn_data_val'\n",
    "# val_path = os.path.join(val_dir, '*g')\n",
    "\n",
    "# val_imgs = glob.glob(val_path)\n",
    "# val_labels = [int(name[-5]) for name in val_imgs]\n",
    "# val_imgs = np.array([np.array(cv2.imread(img)) for img in val_imgs])"
   ]
  },
  {
   "cell_type": "code",
   "execution_count": 4,
   "metadata": {},
   "outputs": [],
   "source": [
    "test_dir = 'cnn_data_test'\n",
    "test_path = os.path.join(test_dir, '*g')\n",
    "\n",
    "test_imgsNom = glob.glob(test_path)\n",
    "test_labels = np.array([int(name[-5]) for name in test_imgsNom])\n",
    "test_imgs = np.array([np.array(cv2.imread(img)) for img in test_imgsNom])"
   ]
  },
  {
   "cell_type": "code",
   "execution_count": 5,
   "metadata": {},
   "outputs": [
    {
     "ename": "NameError",
     "evalue": "name 'train_label' is not defined",
     "output_type": "error",
     "traceback": [
      "\u001b[0;31m---------------------------------------------------------------------------\u001b[0m",
      "\u001b[0;31mNameError\u001b[0m                                 Traceback (most recent call last)",
      "\u001b[0;32m<ipython-input-5-bbbe0e43b2dc>\u001b[0m in \u001b[0;36m<module>\u001b[0;34m\u001b[0m\n\u001b[0;32m----> 1\u001b[0;31m \u001b[0mprint\u001b[0m\u001b[0;34m(\u001b[0m\u001b[0mtrain_label\u001b[0m\u001b[0;34m)\u001b[0m\u001b[0;34m\u001b[0m\u001b[0;34m\u001b[0m\u001b[0m\n\u001b[0m",
      "\u001b[0;31mNameError\u001b[0m: name 'train_label' is not defined"
     ]
    }
   ],
   "source": []
  },
  {
   "cell_type": "markdown",
   "metadata": {},
   "source": [
    "For image loading and preprocessing see:\n",
    "https://keras.io/preprocessing/image/"
   ]
  },
  {
   "cell_type": "code",
   "execution_count": 6,
   "metadata": {},
   "outputs": [
    {
     "name": "stdout",
     "output_type": "stream",
     "text": [
      "train_imgs shape: (1228, 60, 60, 3)\n",
      "1228 train samples\n",
      "216 test samples\n"
     ]
    }
   ],
   "source": [
    "batch_size = 128\n",
    "num_classes = 2\n",
    "epochs = 30\n",
    "\n",
    "# input image dimensions\n",
    "img_rows, img_cols = 60, 60\n",
    "\n",
    "print('train_imgs shape:', train_imgs.shape)\n",
    "print(train_imgs.shape[0], 'train samples')\n",
    "print(test_imgs.shape[0], 'test samples')\n",
    "\n",
    "# convert class vectors to binary class matrices\n",
    "train_label = keras.utils.to_categorical(train_labels, num_classes)\n",
    "# val_label = keras.utils.to_categorical(val_labels, num_classes)\n",
    "test_label = keras.utils.to_categorical(test_labels, num_classes)"
   ]
  },
  {
   "cell_type": "markdown",
   "metadata": {},
   "source": [
    "#### The trashy model used by fronk:"
   ]
  },
  {
   "cell_type": "code",
   "execution_count": 7,
   "metadata": {
    "scrolled": true
   },
   "outputs": [],
   "source": [
    "model = Sequential()\n",
    "model.add(Conv2D(32, kernel_size=(3, 3),\n",
    "                 activation='relu', \n",
    "                 input_shape=(img_rows,img_cols,3)))\n",
    "model.add(Conv2D(64, (3, 3), activation='relu', kernel_initializer = 'random_normal'))\n",
    "model.add(MaxPooling2D(pool_size=(2, 2)))\n",
    "model.add(Dropout(0.25))\n",
    "model.add(Flatten())\n",
    "model.add(Dense(128, activation='relu', kernel_initializer = 'random_normal'))\n",
    "model.add(Dropout(0.5))\n",
    "model.add(Dense(num_classes, activation='softmax', kernel_initializer = 'random_normal'))"
   ]
  },
  {
   "cell_type": "markdown",
   "metadata": {},
   "source": [
    "#### The model used by DNT:"
   ]
  },
  {
   "cell_type": "code",
   "execution_count": 8,
   "metadata": {},
   "outputs": [],
   "source": [
    "model2 = Sequential()\n",
    "model2.add(Conv2D(4, kernel_size=(5, 5),\n",
    "                 activation='relu',\n",
    "                 input_shape=(img_rows,img_cols,3)))\n",
    "model2.add(Conv2D(5, (3, 3), activation='relu', kernel_initializer = 'random_normal'))\n",
    "model2.add(Dropout(0.3))\n",
    "model2.add(Flatten())\n",
    "model2.add(Dense(16, activation='relu', kernel_initializer = 'random_normal', input_shape=(24*24*5,)))\n",
    "model2.add(Dense(num_classes, activation='softmax', kernel_initializer = 'random_normal'))"
   ]
  },
  {
   "cell_type": "markdown",
   "metadata": {},
   "source": [
    "### Our improvement of DNT"
   ]
  },
  {
   "cell_type": "code",
   "execution_count": 9,
   "metadata": {},
   "outputs": [],
   "source": [
    "model3 = Sequential()\n",
    "model3.add(Conv2D(4, kernel_size=(5, 5),\n",
    "                 activation='relu',\n",
    "                 input_shape=(img_rows,img_cols,3)))\n",
    "model3.add(Conv2D(5, (3, 3), activation='relu', kernel_initializer = 'random_normal'))\n",
    "model3.add(MaxPooling2D(pool_size=(4,4), padding='valid'))\n",
    "model3.add(Dropout(0.3))\n",
    "model3.add(Flatten())\n",
    "model3.add(Dense(16, activation='relu', kernel_initializer = 'random_normal', input_shape=(24*24*5,)))\n",
    "model3.add(Dense(num_classes, activation='softmax', kernel_initializer = 'random_normal'))"
   ]
  },
  {
   "cell_type": "code",
   "execution_count": 10,
   "metadata": {
    "scrolled": true
   },
   "outputs": [
    {
     "name": "stdout",
     "output_type": "stream",
     "text": [
      "Train on 982 samples, validate on 246 samples\n",
      "Epoch 1/30\n",
      "982/982 [==============================] - 22s 23ms/step - loss: 1.4097 - acc: 0.4715 - val_loss: 0.8384 - val_acc: 0.6301\n",
      "Epoch 2/30\n",
      "982/982 [==============================] - 20s 20ms/step - loss: 0.7658 - acc: 0.6120 - val_loss: 0.6699 - val_acc: 0.6748\n",
      "Epoch 3/30\n",
      "982/982 [==============================] - 20s 20ms/step - loss: 0.6906 - acc: 0.6619 - val_loss: 0.6686 - val_acc: 0.6789\n",
      "Epoch 4/30\n",
      "982/982 [==============================] - 19s 20ms/step - loss: 0.5348 - acc: 0.7128 - val_loss: 0.5232 - val_acc: 0.6911\n",
      "Epoch 5/30\n",
      "982/982 [==============================] - 20s 20ms/step - loss: 0.4979 - acc: 0.7271 - val_loss: 0.4888 - val_acc: 0.7276\n",
      "Epoch 6/30\n",
      "982/982 [==============================] - 20s 20ms/step - loss: 0.4614 - acc: 0.7475 - val_loss: 0.4617 - val_acc: 0.7927\n",
      "Epoch 7/30\n",
      "982/982 [==============================] - 20s 20ms/step - loss: 0.4768 - acc: 0.7688 - val_loss: 0.4363 - val_acc: 0.8008\n",
      "Epoch 8/30\n",
      "982/982 [==============================] - 20s 20ms/step - loss: 0.4022 - acc: 0.8116 - val_loss: 0.4281 - val_acc: 0.8333\n",
      "Epoch 9/30\n",
      "982/982 [==============================] - 20s 21ms/step - loss: 0.3918 - acc: 0.8157 - val_loss: 0.7224 - val_acc: 0.7317\n",
      "Epoch 10/30\n",
      "982/982 [==============================] - 20s 21ms/step - loss: 0.4264 - acc: 0.8218 - val_loss: 0.4396 - val_acc: 0.7724\n",
      "Epoch 11/30\n",
      "982/982 [==============================] - 20s 21ms/step - loss: 0.3429 - acc: 0.8544 - val_loss: 0.5815 - val_acc: 0.7642\n",
      "Epoch 12/30\n",
      "982/982 [==============================] - 20s 20ms/step - loss: 0.3871 - acc: 0.8340 - val_loss: 0.4379 - val_acc: 0.7927\n",
      "Epoch 13/30\n",
      "982/982 [==============================] - 20s 20ms/step - loss: 0.3727 - acc: 0.8269 - val_loss: 0.3799 - val_acc: 0.8577\n",
      "Epoch 14/30\n",
      "982/982 [==============================] - 20s 21ms/step - loss: 0.3619 - acc: 0.8462 - val_loss: 0.4002 - val_acc: 0.8577\n",
      "Epoch 15/30\n",
      "982/982 [==============================] - 19s 20ms/step - loss: 0.3599 - acc: 0.8360 - val_loss: 0.3978 - val_acc: 0.8089\n",
      "Epoch 16/30\n",
      "982/982 [==============================] - 19s 20ms/step - loss: 0.3032 - acc: 0.8697 - val_loss: 0.3927 - val_acc: 0.8171\n",
      "Epoch 17/30\n",
      "982/982 [==============================] - 21s 21ms/step - loss: 0.3407 - acc: 0.8473 - val_loss: 0.3445 - val_acc: 0.8577\n",
      "Epoch 18/30\n",
      "982/982 [==============================] - 20s 20ms/step - loss: 0.3055 - acc: 0.8686 - val_loss: 0.4625 - val_acc: 0.8699\n",
      "Epoch 19/30\n",
      "982/982 [==============================] - 19s 19ms/step - loss: 0.3742 - acc: 0.8330 - val_loss: 0.3440 - val_acc: 0.8659\n",
      "Epoch 20/30\n",
      "982/982 [==============================] - 19s 19ms/step - loss: 0.2708 - acc: 0.8992 - val_loss: 0.4619 - val_acc: 0.7480\n",
      "Epoch 21/30\n",
      "982/982 [==============================] - 19s 19ms/step - loss: 0.3802 - acc: 0.8228 - val_loss: 0.3587 - val_acc: 0.8252\n",
      "Epoch 22/30\n",
      "982/982 [==============================] - 19s 19ms/step - loss: 0.2654 - acc: 0.8910 - val_loss: 0.4009 - val_acc: 0.7967\n",
      "Epoch 23/30\n",
      "982/982 [==============================] - 20s 20ms/step - loss: 0.3572 - acc: 0.8411 - val_loss: 0.3726 - val_acc: 0.8659\n",
      "Epoch 24/30\n",
      "982/982 [==============================] - 19s 20ms/step - loss: 0.2936 - acc: 0.8798 - val_loss: 0.3497 - val_acc: 0.8415\n",
      "Epoch 25/30\n",
      "982/982 [==============================] - 20s 21ms/step - loss: 0.2453 - acc: 0.8870 - val_loss: 0.3312 - val_acc: 0.8821\n",
      "Epoch 26/30\n",
      "982/982 [==============================] - 20s 21ms/step - loss: 0.2503 - acc: 0.8992 - val_loss: 0.3642 - val_acc: 0.8821\n",
      "Epoch 27/30\n",
      "982/982 [==============================] - 19s 19ms/step - loss: 0.2604 - acc: 0.9022 - val_loss: 0.3254 - val_acc: 0.8821\n",
      "Epoch 28/30\n",
      "982/982 [==============================] - 19s 19ms/step - loss: 0.2276 - acc: 0.9022 - val_loss: 0.3653 - val_acc: 0.8455\n",
      "Epoch 29/30\n",
      "982/982 [==============================] - 20s 21ms/step - loss: 0.2664 - acc: 0.8880 - val_loss: 0.3163 - val_acc: 0.8862\n",
      "Epoch 30/30\n",
      "982/982 [==============================] - 19s 20ms/step - loss: 0.2203 - acc: 0.9022 - val_loss: 0.4383 - val_acc: 0.7927\n",
      "Test loss: 0.44384934725584807\n",
      "Test accuracy: 0.7592592592592593\n"
     ]
    }
   ],
   "source": [
    "model3.compile(loss=keras.losses.categorical_crossentropy,\n",
    "              optimizer=keras.optimizers.Adadelta(),\n",
    "              metrics=['accuracy'])\n",
    "\n",
    "model3.fit(train_imgs, train_label,\n",
    "          batch_size=batch_size,\n",
    "          epochs=epochs,\n",
    "          verbose=1,\n",
    "          validation_split=.2)\n",
    "score = model3.evaluate(test_imgs, test_label, verbose=0)\n",
    "print('Test loss:', score[0])\n",
    "print('Test accuracy:', score[1])"
   ]
  },
  {
   "cell_type": "code",
   "execution_count": 14,
   "metadata": {
    "scrolled": false
   },
   "outputs": [
    {
     "name": "stdout",
     "output_type": "stream",
     "text": [
      "164\n",
      "216\n",
      "+-----------+------+--------+\n",
      "| Pred\\Real | True | False  |\n",
      "+===========+======+========+\n",
      "| True      | 57   | 50     |\n",
      "+-----------+------+--------+\n",
      "| False     | 2    | 107    |\n",
      "+-----------+------+--------+\n"
     ]
    }
   ],
   "source": [
    "from texttable import Texttable\n",
    "\n",
    "pred_test =  model3.predict(test_imgs)\n",
    "predT = np.array(pred_test[:,0]) < 0.5\n",
    "realT = test_labels == 1\n",
    "print(sum(predT == realT))\n",
    "print(len(predT))\n",
    "# print(\"accuracy is:\",accuracy(predT,realT))\n",
    "# print(predT)\n",
    "# print(realT)\n",
    "def accuracy(predT, realT):\n",
    "    return sum(predT == realT)/ len(realT)    \n",
    "\n",
    "def precision(predT,realT):\n",
    "    # if it says robot is it robot?\n",
    "    return sum(predT and realT)/predT\n",
    "\n",
    "# def recall()\n",
    "\n",
    "def evalMatrix(predT,realT):\n",
    "    t = Texttable()\n",
    "    t.add_rows([['Pred\\Real', 'True', 'False '], ['True', sum(predT & realT), sum(predT & (~realT)) ], ['False',  sum(~predT & realT), sum(~ predT & ~ realT) ]])\n",
    "    print(t.draw())\n",
    "evalMatrix(np.array(predT),np.array(realT))\n",
    "# print(~realT)"
   ]
  },
  {
   "cell_type": "code",
   "execution_count": 15,
   "metadata": {},
   "outputs": [
    {
     "name": "stdout",
     "output_type": "stream",
     "text": [
      "[ True False False False]\n",
      "0.7638888888888888\n"
     ]
    }
   ],
   "source": [
    "leon = np.array([True,True,False,False])\n",
    "Hm = np.array([True,False,False,True])\n",
    "print(leon & Hm)\n",
    "print(165/216)"
   ]
  },
  {
   "cell_type": "code",
   "execution_count": null,
   "metadata": {},
   "outputs": [],
   "source": [
    "# model2.compile(loss=keras.losses.categorical_crossentropy,\n",
    "#               optimizer=keras.optimizers.Adadelta(),\n",
    "#               metrics=['accuracy'])\n",
    "\n",
    "# model2.fit(train_imgs, train_label,\n",
    "#           batch_size=batch_size,\n",
    "#           epochs=epochs,\n",
    "#           verbose=1,\n",
    "#           validation_split=.2)\n",
    "# score = model2.evaluate(test_imgs, test_label, verbose=0)\n",
    "# print('Test loss:', score[0])\n",
    "# print('Test accuracy:', score[1])"
   ]
  },
  {
   "cell_type": "markdown",
   "metadata": {},
   "source": [
    "The model used by B-Human"
   ]
  },
  {
   "cell_type": "code",
   "execution_count": 16,
   "metadata": {},
   "outputs": [],
   "source": [
    "import matplotlib.pyplot as plt\n",
    "\n",
    "# B-Human CNN komt hier"
   ]
  },
  {
   "cell_type": "code",
   "execution_count": null,
   "metadata": {
    "scrolled": true
   },
   "outputs": [],
   "source": [
    "np.array(test_imgsNom)[predT & (~realT)]\n",
    "# print(test_imgsNom)"
   ]
  },
  {
   "cell_type": "code",
   "execution_count": null,
   "metadata": {
    "scrolled": false
   },
   "outputs": [],
   "source": [
    "\n",
    "\n",
    "print(test_labels)\n",
    "plt.imshow(test_imgs[0])"
   ]
  }
 ],
 "metadata": {
  "kernelspec": {
   "display_name": "Python 3",
   "language": "python",
   "name": "python3"
  },
  "language_info": {
   "codemirror_mode": {
    "name": "ipython",
    "version": 3
   },
   "file_extension": ".py",
   "mimetype": "text/x-python",
   "name": "python",
   "nbconvert_exporter": "python",
   "pygments_lexer": "ipython3",
   "version": "3.6.7"
  }
 },
 "nbformat": 4,
 "nbformat_minor": 2
}
